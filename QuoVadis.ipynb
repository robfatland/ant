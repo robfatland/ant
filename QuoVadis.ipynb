{
 "cells": [
  {
   "cell_type": "markdown",
   "id": "8caecf54-1108-4d57-adb2-da0cfb252739",
   "metadata": {},
   "source": [
    "- The second volume (MFADSINT) at a skim bears little resemblance to the subject matter of chapters 1 and 2 in the first volume (IANT).\n",
    "- In the first volume the Fourier transform appears on page 160 and Dirichlet series appears on page 224.\n",
    "- Chapter two introduces arithmetic functions; and chapter 3 looks at the averages of these functions as their argument $n$ grows very large.\n",
    "- In chapter four we start looking at proofs of theorems related to the prime number theorem. We do not see a PNT proof (analytic) however until chapter 13. "
   ]
  }
 ],
 "metadata": {
  "kernelspec": {
   "display_name": "Python 3 (ipykernel)",
   "language": "python",
   "name": "python3"
  },
  "language_info": {
   "codemirror_mode": {
    "name": "ipython",
    "version": 3
   },
   "file_extension": ".py",
   "mimetype": "text/x-python",
   "name": "python",
   "nbconvert_exporter": "python",
   "pygments_lexer": "ipython3",
   "version": "3.13.4"
  }
 },
 "nbformat": 4,
 "nbformat_minor": 5
}
