{
 "cells": [
  {
   "cell_type": "code",
   "execution_count": 1,
   "id": "cd404f24-bafa-4fd7-bf9a-1ac198c7b47e",
   "metadata": {},
   "outputs": [],
   "source": [
    "# Do not do this: \n",
    "# from iant_example_module import *\n",
    "# because it pollutes the global namespace\n",
    "# Please move this remark to somewhere findable...\n",
    "# The module file a.py has a global namespace\n",
    "# namespace is a type of dictionary that maps a string to an address of some code\n",
    "# the global namespace of a module coexists with the global namespace of this notebook\n",
    "# their intersection is the empty set\n",
    "# Let us say the module is a.py and the notebook is b.ipynb\n",
    "# The first line of a.py is `from math import cos`\n",
    "# When this runs (for example via an import statement in b.ipynb) the global namespace will have a new dictionary entry\n",
    "# its key will be 'cos' and its value will be a pointer to the sole copy of the cosine function in the Python universe\n",
    "# more lines of a.py run in sequence\n",
    "# when this happens some code can be intentionally not run: Look up the rules for __init__ == __main__\n",
    "# as an aside: This is to prevent main-ish code from running during an import operation\n",
    "# more lines of a.py run in sequence\n",
    "# they create some functions and classes and variables and so on; say fn() and x = 7 for example\n",
    "# this process finishes and we have the global namespace of a\n",
    "# since b.ipynb executes `import a`: that triggers the above run\n",
    "# now in b.ipynb's global namespace there exists all of a's global namespace as a.cos and a.fn and a.x\n",
    "# Instead: Do this\n",
    "import ant"
   ]
  },
  {
   "cell_type": "code",
   "execution_count": null,
   "id": "11378ebc-68ac-4963-a5ed-3a3b6c85d4aa",
   "metadata": {},
   "outputs": [],
   "source": [
    "# To list available functions in the ant module: type ant., Tab\n",
    "# Docstring for the module: type ant., Shift + Tab\n",
    "ant."
   ]
  },
  {
   "cell_type": "markdown",
   "id": "fb6d695b-a550-4f2b-8bb4-09ec10802492",
   "metadata": {},
   "source": [
    "## Problem 2.5\n",
    "\n",
    "Show the Dirichlet product of the Mobius function and $\\nu(n)$ (the number of unique prime factors of $n$) is $1$ or $0$."
   ]
  },
  {
   "cell_type": "code",
   "execution_count": 3,
   "id": "85fe4f76-8389-47cf-a5f4-2a560df5763d",
   "metadata": {},
   "outputs": [
    {
     "name": "stdout",
     "output_type": "stream",
     "text": [
      "1 0\n",
      "2 1\n",
      "3 1\n",
      "4 0\n",
      "5 1\n",
      "6 0\n",
      "7 1\n",
      "8 0\n",
      "9 0\n",
      "10 0\n"
     ]
    }
   ],
   "source": [
    "# empirical check establishes the pattern: n = prime gives 1, 0 otherwise\n",
    "for n in range(1, 100000, 1):\n",
    "    if n < 11:                                                           print(n, ant.Dirichlet(ant.Mobius, ant.Nu, n))\n",
    "    elif ant.prime(n) and not ant.Dirichlet(ant.Mobius, ant.Nu, n) == 1: print(\"Prime anomaly at\", n)\n",
    "    elif not ant.prime(n) and ant.Dirichlet(ant.Mobius, ant.Nu, n):      print(\"Composite anomaly at\", n)"
   ]
  },
  {
   "cell_type": "code",
   "execution_count": 4,
   "id": "3254248c-1657-4af3-9add-4365a258e383",
   "metadata": {},
   "outputs": [
    {
     "name": "stdout",
     "output_type": "stream",
     "text": [
      "5217 zeros, 783 ones, 0 something-elses\n"
     ]
    }
   ],
   "source": [
    "total0, total1, totalOther, n = 0, 0, 0, 6000\n",
    "for i in range(1, n+1): \n",
    "    product     = ant.Dirichlet(ant.Mobius, ant.Nu, i)\n",
    "    if product == 0:   total0 += 1\n",
    "    elif product == 1: total1 += 1\n",
    "    else:              totalOther += 1\n",
    "        \n",
    "print(total0, 'zeros,', total1, 'ones,', totalOther, 'something-elses')"
   ]
  },
  {
   "cell_type": "markdown",
   "id": "de1225c4-f755-4c71-880e-6269248a693d",
   "metadata": {},
   "source": [
    "#### 2.9 Extending the totient $\\varphi$ for $x \\in \\mathbb{R}$\n",
    "\n",
    "This problem involves two arguments to the extended totient: A real $x$\n",
    "and our usual integer $n$. So let's try and establish the pattern of\n",
    "behavior by observation.\n",
    "\n",
    "\n",
    "Problem: Suppose $x \\in R$, $x \\ge 1$: Let $\\varphi(x, n)$ denote the number of positive integers $\\le x$ that are relatively prime to $n$.\n",
    "(Notice no qualification of $n$ in relation to $x$.)\n",
    "\n",
    "\n",
    "a) Show $\\varphi(x, n) = \\sum_{d|n} \\mu(d) \\lfloor \\frac{x}{d} \\rfloor$.\n",
    "\n",
    "\n",
    "b) Show $\\sum_{d|n} \\varphi(\\frac{x}{d}, \\frac{n}{d}) = \\lfloor x \\rfloor$."
   ]
  },
  {
   "cell_type": "code",
   "execution_count": 4,
   "id": "6fffa191-e2b2-4b10-8708-1bf6834219fc",
   "metadata": {},
   "outputs": [
    {
     "name": "stdout",
     "output_type": "stream",
     "text": [
      "\n",
      "Part a) test passed\n",
      "\n",
      "when part b) hits a case of x/d < 1: Do a diagnostic print with these columns:\n",
      "n, x, [x], d, x/d, n//d, x-totient(x/d, n/d)\n",
      "\n",
      "6 1.2 1 2 0.6 3 0\n",
      "6 1.2 1 3 0.4 2 0\n",
      "6 1.2 1 6 0.2 1 0\n",
      "6 2.2 2 3 0.733 2 0\n",
      "6 2.2 2 6 0.367 1 0\n",
      "6 4.2 4 6 0.7 1 0\n",
      "16 1.2 1 2 0.6 8 0\n",
      "16 1.2 1 4 0.3 4 0\n",
      "16 1.2 1 8 0.15 2 0\n",
      "16 1.2 1 16 0.075 1 0\n",
      "16 2.2 2 4 0.55 4 0\n",
      "16 2.2 2 8 0.275 2 0\n",
      "16 2.2 2 16 0.138 1 0\n",
      "16 4.2 4 8 0.525 2 0\n",
      "16 4.2 4 16 0.263 1 0\n",
      "16 6.2 6 8 0.775 2 0\n",
      "16 6.2 6 16 0.388 1 0\n",
      "21 1.2 1 3 0.4 7 0\n",
      "21 1.2 1 7 0.171 3 0\n",
      "21 1.2 1 21 0.057 1 0\n",
      "21 2.2 2 3 0.733 7 0\n",
      "21 2.2 2 7 0.314 3 0\n",
      "21 2.2 2 21 0.105 1 0\n",
      "21 4.2 4 7 0.6 3 0\n",
      "21 4.2 4 21 0.2 1 0\n",
      "21 6.2 6 7 0.886 3 0\n",
      "21 6.2 6 21 0.295 1 0\n",
      "21 17.2 17 21 0.819 1 0\n",
      "\n",
      "Part b) test passed\n",
      "\n"
     ]
    }
   ],
   "source": [
    "test_x_values = [1.2, 2.2, 4.2, 6.2, 17.2]\n",
    "test_n_values = [1, 6, 16, 21]\n",
    "\n",
    "# print(\"\\nx, n, ex-tot\\n\")\n",
    "\n",
    "# part a) Extended totient\n",
    "part_a_exception = False\n",
    "for n in test_n_values:\n",
    "    for x in test_x_values:\n",
    "        extended_totient = ant.ExtendedTotient(x, n)\n",
    "        to_prove_sum = 0\n",
    "        for d in ant.divisors(n):\n",
    "            to_prove_sum += ant.Mobius(d) * ant.floor(x/d)\n",
    "        # print(x, n, extended_totient)\n",
    "        if not extended_totient == to_prove_sum:\n",
    "            part_a_exception = True\n",
    "            print(\"Exception, part a:\", n, x, extended_totient, to_prove_sum)\n",
    "            \n",
    "if not part_a_exception: print(\"\\nPart a) test passed\\n\")\n",
    "else: print(\"\\nPart a) test failed\\n\")\n",
    "                  \n",
    "# part b)\n",
    "print('when part b) hits a case of x/d < 1: Do a diagnostic print with these columns:')\n",
    "print('n, x, [x], d, x/d, n//d, x-totient(x/d, n/d)\\n')\n",
    "\n",
    "part_b_exception = False\n",
    "for n in test_n_values:\n",
    "    for x in test_x_values:\n",
    "        extended_totient_sum = 0\n",
    "        for d in ant.divisors(n):\n",
    "            extended_totient_sum += ant.ExtendedTotient(x/d, n/d)\n",
    "            if (x/d < 1): print(n, x, ant.floor(x), d, round(x/d, 3), n//d, ant.ExtendedTotient(x/d, n/d))\n",
    "        if not extended_totient_sum == ant.floor(x):\n",
    "            part_b_exception = True\n",
    "            print(\"Exception, part b:\", n, x, extended_totient_sum, ant.floor(x))\n",
    "        \n",
    "if not part_b_exception: print(\"\\nPart b) test passed\\n\")\n",
    "else: print(\"\\nPart b) test failed\\n\")"
   ]
  },
  {
   "cell_type": "markdown",
   "id": "dc1b39f9-c171-4780-9f7c-e2e9ec24b0fb",
   "metadata": {},
   "source": [
    "### Problem 2.9 continued\n",
    "\n",
    "\n",
    "From looking into part b) by hand: The sum of extended totients works as advertised; but the \n",
    "extended totient is passed real argument $x/d < 1$, a consequence of allowing $x < n$. \n",
    "Example: $x = 17$, $n = 21$: $d = \\{ 1, 3, 7, 21 \\}$ and extended totient argument pairs\n",
    "are $(17, 21), \\ (5.67, 7), \\ (2.43, 3), \\ (.81, 1)$.\n",
    "The extended totient returns zero in such cases; and this does not alter the\n",
    "sum. So define the extended totient to be zero for $x < 1$ and everything is fine.\n",
    "\n",
    "\n",
    "\n"
   ]
  },
  {
   "cell_type": "markdown",
   "id": "d649c7b7-a321-4851-b908-7486848c12f7",
   "metadata": {},
   "source": [
    "## Problem 2.12\n",
    "\n",
    "\n",
    "If $f(n) > 0$ for all $n$ and if $a(n)$ is real with $a(1) \\ne 0$, prove that\n",
    "\n",
    "\n",
    "$\n",
    "\\begin{align}\n",
    "g(n) =  \\prod_{d|n}f(d)^{a(\\frac{n}{d})} \\;\\; \\textrm{ if and only if } \\;\\; f(n)=\\prod_{d|n}g(d)^{a^{-1}(\\frac{n}{d})},\n",
    "\\end{align}\n",
    "$"
   ]
  },
  {
   "cell_type": "code",
   "execution_count": 4,
   "id": "475d0a13-2e13-4f2e-a08f-8cbe3bb0f265",
   "metadata": {},
   "outputs": [
    {
     "name": "stdout",
     "output_type": "stream",
     "text": [
      "[1, 2, 3, 5, 6, 10, 15, 30]\n"
     ]
    }
   ],
   "source": [
    "print(divisors(30))"
   ]
  },
  {
   "cell_type": "code",
   "execution_count": 5,
   "id": "b519ec09-4610-454d-8a60-d63aa7ac95c3",
   "metadata": {},
   "outputs": [
    {
     "name": "stdout",
     "output_type": "stream",
     "text": [
      "1\n",
      "1\n",
      "2\n",
      "2\n",
      "8\n",
      "8\n",
      "16\n",
      "640\n"
     ]
    }
   ],
   "source": [
    "print(Totient(1))\n",
    "print(Totient(2))\n",
    "print(Totient(3))\n",
    "print(Totient(4))\n",
    "print(Totient(15))\n",
    "print(Totient(30))\n",
    "print(Totient(60))\n",
    "print(Totient(2400))"
   ]
  },
  {
   "cell_type": "code",
   "execution_count": 6,
   "id": "988f2407-eff0-4411-b963-a3cd9518d374",
   "metadata": {},
   "outputs": [
    {
     "name": "stdout",
     "output_type": "stream",
     "text": [
      "1\n",
      "1\n",
      "3\n",
      "4\n",
      "60\n",
      "120\n",
      "480\n",
      "768000\n",
      "1\n",
      "1\n",
      "2\n",
      "2\n",
      "8\n",
      "8\n",
      "16\n",
      "640\n",
      "1\n",
      "1\n",
      "5\n",
      "10\n",
      "620\n",
      "2360\n",
      "19120\n",
      "1228796800\n"
     ]
    }
   ],
   "source": [
    "print(GeneralizedTotient(1, 1))\n",
    "print(GeneralizedTotient(1, 2))\n",
    "print(GeneralizedTotient(1, 3))\n",
    "print(GeneralizedTotient(1, 4))\n",
    "print(GeneralizedTotient(1, 15))\n",
    "print(GeneralizedTotient(1, 30))\n",
    "print(GeneralizedTotient(1, 60))\n",
    "print(GeneralizedTotient(1, 2400))\n",
    "\n",
    "print(GeneralizedTotient(0, 1))\n",
    "print(GeneralizedTotient(0, 2))\n",
    "print(GeneralizedTotient(0, 3))\n",
    "print(GeneralizedTotient(0, 4))\n",
    "print(GeneralizedTotient(0, 15))\n",
    "print(GeneralizedTotient(0, 30))\n",
    "print(GeneralizedTotient(0, 60))\n",
    "print(GeneralizedTotient(0, 2400))\n",
    "\n",
    "print(GeneralizedTotient(2, 1))\n",
    "print(GeneralizedTotient(2, 2))\n",
    "print(GeneralizedTotient(2, 3))\n",
    "print(GeneralizedTotient(2, 4))\n",
    "print(GeneralizedTotient(2, 15))\n",
    "print(GeneralizedTotient(2, 30))\n",
    "print(GeneralizedTotient(2, 60))\n",
    "print(GeneralizedTotient(2, 2400))"
   ]
  },
  {
   "cell_type": "markdown",
   "id": "c9d2cc69-590e-4918-b352-6e84c1888507",
   "metadata": {},
   "source": [
    "## 2.15 Prove an equality involving a sum of generalized Euler totient functions. \n",
    "\n",
    "\n",
    "Totient $\\varphi (n)$ is the number of relative primes less than $n$. \n",
    "\n",
    "\n",
    "Generalized totient $\\varphi_k(n) = \\sum_{m<n \\textrm{ and } (m,n)=1}m^k$.\n",
    "\n",
    "\n",
    "When $k=0$ we have $\\varphi_{0}(n) = \\varphi (n)$.\n",
    "\n",
    "\n",
    "For $k=2$ and $n=7$ we have relative primes $1, 2, 3, 4, 5, 6$ and $\\varphi_2(7) = 1^2 + 2^2 + 3^2 + 4^2 + 5^2 + 6^2$. \n",
    "\n",
    "\n",
    "Problem: Show \n",
    "\n",
    "\n",
    "$\\begin{align}\\sum_{d|n} \\frac{\\varphi_k(d)}{d^k} = \\frac{1^k + 2^k + \\cdots + n^k}{n^k}\\end{align}$\n",
    "\n",
    "\n",
    "The following code shows that equality holds pretty reliably... maybe with the occasional Python rounding error."
   ]
  },
  {
   "cell_type": "code",
   "execution_count": 18,
   "id": "d5e46657-c498-42ed-89c9-0cfbac9e6480",
   "metadata": {},
   "outputs": [
    {
     "name": "stdout",
     "output_type": "stream",
     "text": [
      "ERROR...........\n",
      "20 3 5.512 5.513\n"
     ]
    }
   ],
   "source": [
    "first_n = 1\n",
    "last_n = 60\n",
    "first_k = 0\n",
    "last_k = 5\n",
    "precision = 3\n",
    "for n in range(first_n, last_n + 1,1):\n",
    "    for k in range(first_k, last_k + 1, 1):\n",
    "        lhs_sum = 0\n",
    "        for d in ant.divisors(n): lhs_sum += ant.GeneralizedTotient(k, d) / d**k\n",
    "        rhs_sum = 0\n",
    "        for i in range(1, n+1, 1): rhs_sum += i**k\n",
    "        rhs = rhs_sum / (n**k)\n",
    "        \n",
    "        ratio_sum = round(lhs_sum, precision)\n",
    "        sum_ratio = round(rhs, precision)\n",
    "        if not ratio_sum == sum_ratio: \n",
    "            print(\"ERROR...........\")\n",
    "            print(n, k, ratio_sum, sum_ratio)"
   ]
  },
  {
   "cell_type": "markdown",
   "id": "b91993f1-86fb-4281-b043-878aa70a2630",
   "metadata": {},
   "source": [
    "## Problem 2.13\n",
    "\n",
    "This problem is thematic to chapters 1 and 2 as it brings together several important ideas. The problem \n",
    "is easily solved by Chip Hurst in a couple of lines but I belabor matters.\n",
    "\n",
    "\n",
    "The problem is advertised as \"*The product form of the Mobius inversion formula*\": \n",
    "Start with a function $f(n) > 0 \\; \\forall \\; n$ and a second real-valued function $a(n)$ \n",
    "where $a(1) \\ne 0$. Show that \n",
    "\n",
    "\n",
    "$\\begin{align}\n",
    "\\large{g(n)=\\prod_{d|n}{f(d)^{a(n/d)}} \\; \\iff \\; f(n)=\\prod_{d|n}{g(d)^{a^{-1}(n/d)}}.}\n",
    "\\end{align}$\n",
    "\n",
    "\n",
    "The exponentiation is not a typo! Here $a$ and $a^{-1}$ are Dirichlet inverse functions. \n",
    "(The problem statement in the text uses $b$ in place of $a^{-1}$.)\n",
    "\n",
    "\n",
    "***Note: Mobius inversion sets up a relationship between two functions f and g\n",
    "via the Mobius function. This is not the same thing as Dirichlet inversion \n",
    "where $f * f^{-1} = f^{-1} * f = I.$***\n",
    "\n",
    "\n",
    "Zeroth belabor: Confirm the recursive formula for the Dirichlet inverse for $f(n) = n$.\n",
    "\n",
    "\n",
    "First belabor: Demonstrate the unit function u(n) = 1 is the Dirichlet inverse of \n",
    "the Mobius function.\n",
    "\n",
    "Second belabor: The Mobius Inversion Formula presents a function's inverse\n",
    "in terms of a sum involving the Mobius function. This can be recursively substituted \n",
    "to give the function in terms of itself. Check this\n",
    "empirically using $f(n) = n$.\n",
    "\n",
    "\n",
    "Third belabor: With $f$ as above and defining the second function $a$ the same as\n",
    "$f$: $a(n)=n$: Does the product form of the Mobius Inversion Formula yield $f$ via $g$?\n"
   ]
  },
  {
   "cell_type": "code",
   "execution_count": 8,
   "id": "8649ca7a-15db-4d9a-90f3-202c88543637",
   "metadata": {},
   "outputs": [
    {
     "name": "stdout",
     "output_type": "stream",
     "text": [
      "Problem 2.13 on the product form of the Mobius Inversion Formula...            \n",
      "   Part 0: Show the Dirichlet inverse by recursion works properly (gives I).   \n",
      "                                                                               \n",
      "Let's use the function f(n) = N(n) = n                                         \n",
      "  Recall that the identity function is [1, 0, 0, 0, ...] = I                   \n",
      "  The Dirichlet product of a function and its inverse gives I (commutative).   \n",
      "                                                                               \n",
      "  f-1(1) = 1/f(1); and then for n > 1:                                         \n",
      "  f-1(n) = -1/f(1) multiplied by S where                                       \n",
      "                                                                               \n",
      " S = sum over d divides n, d less than n: Of E where                           \n",
      "                                                                               \n",
      " E = f(n/d) multiplied by f-1(d). Noting d < n is key to recursion.            \n",
      "                                                                               \n",
      "The list length of G should be two elements: 2\n",
      "\n",
      "Confirmation of Dirichlet inverse:\n",
      "\n",
      "The function f(n) is in list F: [1, 2, 3, 4, 5, 6, 7, 8, 9, 10, 11, 12, 13, 14, 15, 16, 17, 18, 19, 20, 21, 22, 23, 24, 25, 26, 27, 28, 29, 30, 31, 32, 33, 34, 35]\n",
      "The function f-1(n) is in list G: [1.0, -2.0, -3.0, -0.0, -5.0, 6.0, -7.0, -0.0, -0.0, 10.0, -11.0, -0.0, -13.0, 14.0, 15.0, -0.0, -17.0, -0.0, -19.0, -0.0, 21.0, 22.0, -23.0, -0.0, -0.0, 26.0, -0.0, -0.0, -29.0, -30.0, -31.0, -0.0, 33.0, 34.0, 35.0]\n",
      "\n",
      "Confirm their product is I: \n",
      "[1.0, 0.0, 0.0, 0.0, 0.0, 0.0, 0.0, 0.0, 0.0, 0.0, 0.0, 0.0, 0.0, 0.0, 0.0, 0.0, 0.0, 0.0, 0.0, 0.0, 0.0, 0.0, 0.0, 0.0, 0.0, 0.0, 0.0, 0.0, 0.0, 0.0, 0.0, 0.0, 0.0, 0.0, 0.0]\n",
      "[1.0, 0.0, 0.0, 0.0, 0.0, 0.0, 0.0, 0.0, 0.0, 0.0, 0.0, 0.0, 0.0, 0.0, 0.0, 0.0, 0.0, 0.0, 0.0, 0.0, 0.0, 0.0, 0.0, 0.0, 0.0, 0.0, 0.0, 0.0, 0.0, 0.0, 0.0, 0.0, 0.0, 0.0, 0.0]\n",
      "\n"
     ]
    }
   ],
   "source": [
    "# Zeroth Belabor\n",
    "\n",
    "print(\"Problem 2.13 on the product form of the Mobius Inversion Formula...            \")\n",
    "print(\"   Part 0: Show the Dirichlet inverse by recursion works properly (gives I).   \")\n",
    "print(\"                                                                               \")\n",
    "print(\"Let's use the function f(n) = N(n) = n                                         \")\n",
    "print(\"  Recall that the identity function is [1, 0, 0, 0, ...] = I                   \")\n",
    "print(\"  The Dirichlet product of a function and its inverse gives I (commutative).   \")\n",
    "print(\"                                                                               \")\n",
    "print(\"  f-1(1) = 1/f(1); and then for n > 1:                                         \")\n",
    "print(\"  f-1(n) = -1/f(1) multiplied by S where                                       \")\n",
    "print(\"                                                                               \")\n",
    "print(\" S = sum over d divides n, d less than n: Of E where                           \")\n",
    "print(\"                                                                               \")\n",
    "print(\" E = f(n/d) multiplied by f-1(d). Noting d < n is key to recursion.            \")\n",
    "print(\"                                                                               \")\n",
    "\n",
    "test_n = 35\n",
    "F      = [ant.N(n) for n in range(test_n + 1)]      # F holds values of f in the recursive space from 1 to test_n\n",
    "                                                    #   Note the list indices match n and we ignore F[0]\n",
    "G      = [0, 1/F[1]]                                # G[] will be the inverse of F built recursively, also with 'ignore 0' indexing\n",
    "    \n",
    "print('The list length of G should be two elements: ' + str(len(G)))\n",
    "print()\n",
    "\n",
    "# here the recursion formula calculates values of G.\n",
    "#   each value is a sum (so there is an inner loop)\n",
    "#   and the recursion proceeds from 1 to test_n (outer loop)\n",
    "\n",
    "G = [0]\n",
    "G.append(1/F[1])\n",
    "leading_coefficient = -1/F[1]\n",
    "for n in range(2, test_n + 1):\n",
    "    S = 0\n",
    "    for d in ant.divisors_less_n(n): S += ant.N(n//d)*G[d]\n",
    "    G.append(leading_coefficient * S)\n",
    "    \n",
    "print(\"Confirmation of Dirichlet inverse:\")\n",
    "print()\n",
    "print(\"The function f(n) is in list F: \" + str(F[1:]))\n",
    "print(\"The function f-1(n) is in list G: \" + str(G[1:]))\n",
    "print()\n",
    "print(\"Confirm their product is I: \")\n",
    "print(ant.ScanningListDirichlet(F, G)[1:])\n",
    "print(ant.ScanningListDirichlet(G, F)[1:])\n",
    "print()\n"
   ]
  },
  {
   "cell_type": "code",
   "execution_count": 20,
   "id": "69bcb476-794f-42b5-bba8-cc161bc30749",
   "metadata": {},
   "outputs": [
    {
     "name": "stdout",
     "output_type": "stream",
     "text": [
      "[1, 0, 0, 0, 0, 0, 0, 0, 0, 0, 0, 0, 0, 0, 0, 0, 0, 0, 0, 0, 0, 0, 0, 0, 0, 0, 0, 0, 0, 0, 0, 0, 0, 0, 0]\n"
     ]
    }
   ],
   "source": [
    "# First belabor: Show the unit function U and the Mobius function are Dirichlet inverses\n",
    "mu, u = [0], [0]\n",
    "for n in range(1, test_n + 1):\n",
    "    mu.append(ant.Mobius(n))\n",
    "    u.append(ant.U(n))\n",
    "    \n",
    "print(ant.ScanningListDirichlet(mu, u)[1:])"
   ]
  },
  {
   "cell_type": "code",
   "execution_count": 22,
   "id": "55045cf4-602a-4510-be9e-e2644f9809e3",
   "metadata": {},
   "outputs": [
    {
     "name": "stdout",
     "output_type": "stream",
     "text": [
      "[1, 2, 3, 4, 5, 6, 7, 8, 9, 10, 11, 12, 13, 14, 15, 16, 17, 18, 19, 20, 21, 22, 23, 24, 25, 26, 27, 28, 29, 30, 31, 32, 33, 34, 35]\n",
      "[1, 1, 2, 2, 4, 2, 6, 4, 6, 4, 10, 4, 12, 6, 8, 8, 16, 6, 18, 8, 12, 10, 22, 8, 20, 12, 18, 12, 28, 8, 30, 16, 20, 16, 24]\n",
      "\n",
      "        (by the way that looks an awful lot like the totient...)\n",
      "\n",
      "Confirm F is recovered as N(n): \n",
      "[1, 2, 3, 4, 5, 6, 7, 8, 9, 10, 11, 12, 13, 14, 15, 16, 17, 18, 19, 20, 21, 22, 23, 24, 25, 26, 27, 28, 29, 30, 31, 32, 33, 34, 35]\n",
      "\n"
     ]
    }
   ],
   "source": [
    "# Second belabor: Show that the Mobius Inversion Formula returns f by substitution:\n",
    "#   Suppose some arithmetic function f is equal to the sum over the divisors of n of some function g(d).\n",
    "#   Then g(n) is f * mu. The plan is to calculate g and show it generates f.\n",
    "    \n",
    "GMob = [0]\n",
    "for n in range(1, test_n + 1):\n",
    "    GMob.append(ant.Dirichlet(ant.N, ant.Mobius, n))\n",
    "\n",
    "FRegen = [0]\n",
    "for n in range(1, test_n + 1):\n",
    "    FRegen.append(ant.ListDirichlet(GMob, u, n))\n",
    "\n",
    "print(F[1:])\n",
    "print(GMob[1:])\n",
    "print()\n",
    "print(\"        (by the way that looks an awful lot like the totient...)\")\n",
    "print()\n",
    "print(\"Confirm F is recovered as N(n): \")\n",
    "print(FRegen[1:])\n",
    "print()"
   ]
  },
  {
   "cell_type": "code",
   "execution_count": 25,
   "id": "87e1aaa1-2769-4f20-ac86-66a6acdd12b9",
   "metadata": {},
   "outputs": [
    {
     "name": "stdout",
     "output_type": "stream",
     "text": [
      "0\n"
     ]
    }
   ],
   "source": [
    "# Third belabor: Demonstrate that the product form of the Mobius Inversion Formula works as advertised.\n",
    "#   First condition: f(n) > 0 for all n: Define f(n) = n as above.\n",
    "#   Second condition: a(n) is real and a(1) is not zero: Set a(n) = n\n",
    "#   Third condition: a-inv is the Dirichlet inverse of a(n): a-inv(n) = n times mu(n) (not a Dirichlet product).\n",
    "#\n",
    "#   Result to show: Define g as the product over divisors d: f(d) raised to the a(n/d); if and only if \n",
    "#       f is the product over divisors d of g(d) raised to the a-inv(n/d). \n",
    "\n",
    "def a(n): return ant.N(n)\n",
    "\n",
    "def a_inverse(n): return ant.N(n)*ant.Mobius(n)\n",
    "\n",
    "print(ant.Dirichlet(a, a_inverse, 3))      # Confirms result is I(n)"
   ]
  },
  {
   "cell_type": "markdown",
   "id": "40460215-089b-4773-93f1-dfb99c407481",
   "metadata": {},
   "source": [
    "## 2.25"
   ]
  },
  {
   "cell_type": "code",
   "execution_count": 16,
   "id": "c7cc28d9-7419-454d-bb65-45000c824513",
   "metadata": {},
   "outputs": [
    {
     "name": "stdout",
     "output_type": "stream",
     "text": [
      "n     tot      mu      tot*mu      tm*m      I\n",
      "1       1       1       1       1       1\n",
      "2       1       -1       -1       0       0\n",
      "3       2       -1       -2       0       0\n",
      "4       2       0       0       1       0\n",
      "5       4       -1       -4       0       0\n",
      "6       2       1       2       0       0\n",
      "7       6       -1       -6       0       0\n",
      "8       4       0       0       2       0\n",
      "9       6       0       0       2       0\n",
      "10       4       1       4       0       0\n",
      "11       10       -1       -10       0       0\n",
      "12       4       0       0       0       0\n",
      "13       12       -1       -12       0       0\n",
      "14       6       1       6       0       0\n",
      "15       8       1       8       0       0\n",
      "16       8       0       0       4       0\n",
      "17       16       -1       -16       0       0\n",
      "18       6       0       0       0       0\n",
      "19       18       -1       -18       0       0\n",
      "20       8       0       0       0       0\n",
      "21       12       1       12       0       0\n",
      "22       10       1       10       0       0\n",
      "23       22       -1       -22       0       0\n",
      "24       8       0       0       0       0\n",
      "25       20       0       0       4       0\n",
      "26       12       1       12       0       0\n",
      "27       18       0       0       6       0\n",
      "28       12       0       0       0       0\n",
      "29       28       -1       -28       0       0\n",
      "30       8       -1       -8       0       0\n",
      "31       30       -1       -30       0       0\n",
      "32       16       0       0       8       0\n",
      "33       20       1       20       0       0\n",
      "34       16       1       16       0       0\n",
      "35       24       1       24       0       0\n",
      "36       12       0       0       2       0\n",
      "37       36       -1       -36       0       0\n",
      "38       18       1       18       0       0\n",
      "39       24       1       24       0       0\n",
      "40       16       0       0       0       0\n",
      "41       40       -1       -40       0       0\n",
      "42       12       -1       -12       0       0\n"
     ]
    }
   ],
   "source": [
    "print(\"n     tot      mu      tot*mu      tm*m      I\")\n",
    "for n in range(1, 43):\n",
    "    t = ant.Totient(n)\n",
    "    m = ant.Mobius(n)\n",
    "    d = ant.Dirichlet(ant.TotientMobiusProduct, ant.Totient, n)\n",
    "    I = 1 if n == 1 else 0\n",
    "    print(n, '     ', t, '     ', m, '     ', t*m, '     ', d, '     ', I)"
   ]
  }
 ],
 "metadata": {
  "kernelspec": {
   "display_name": "Python 3 (ipykernel)",
   "language": "python",
   "name": "python3"
  },
  "language_info": {
   "codemirror_mode": {
    "name": "ipython",
    "version": 3
   },
   "file_extension": ".py",
   "mimetype": "text/x-python",
   "name": "python",
   "nbconvert_exporter": "python",
   "pygments_lexer": "ipython3",
   "version": "3.12.3"
  }
 },
 "nbformat": 4,
 "nbformat_minor": 5
}
