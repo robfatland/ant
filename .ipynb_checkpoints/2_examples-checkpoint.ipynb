{
 "cells": [
  {
   "cell_type": "markdown",
   "id": "6fe8025a-c5aa-4dec-8d47-1ee2961daddb",
   "metadata": {},
   "source": [
    "# Chapter two worked examples\n",
    "\n",
    "\n"
   ]
  },
  {
   "cell_type": "code",
   "execution_count": 42,
   "id": "d5d8b3af-f13b-4431-8cb4-3c503de8a20a",
   "metadata": {
    "tags": []
   },
   "outputs": [],
   "source": [
    "import ant\n",
    "from math import cos, sin, pi, fabs\n",
    "from random import randint\n",
    "\n",
    "# Functions: type ant. then Tab\n",
    "# Docstrings: Select a function like Dirichlet then append ( then shift + tab\n"
   ]
  },
  {
   "cell_type": "markdown",
   "id": "a5cc9f83-e73c-4455-b5fb-b006d4967f42",
   "metadata": {},
   "source": [
    "## Problem 0: Bonus Fourier transform check!\n",
    "\n",
    "\n",
    "The aim here is to show empirically that that the totient at $n$ is equal to the first term in the discrete \n",
    "Fourier transform of the gcd function evaluated from $1$ to $n$. This claim can be found in the Wikipedia \n",
    "page on the [Euler totient function](https://en.wikipedia.org/wiki/Euler%27s_totient_function#Fourier_transform).\n",
    "\n",
    "\n",
    "\n",
    "The discrete Fourier transform operates on a vector $x$ of $N$ (real / complex) values, producing a new vector $X$ of $N$ complex values.\n",
    "The transform is defined for the $k$th element of the resultant transform vector as:\n",
    "\n",
    "\n",
    "$\\begin{align}\\large{X_k = \\sum_{n=0}^{N-1}x_n \\cdot e^{-2 \\pi i \\frac{k}{N}n}}\\end{align}$\n",
    "\n",
    "\n",
    "Note the indexing runs $0 \\dots N-1$. The DFT in the context of the totient function will use an index $k$ running $1 \\dots n$ \n",
    "to follow the notation of the article cited above. An element of the vector $x$ is defined $x_k = gcd(k, n) \\textrm{ for } k \\in \\{1, \\dots, n\\}$.\n",
    "For example taking $n=10$ results in $x = \\{ 1, 2, 1, 2, 5, 2, 1, 2, 1, 10 \\}$. Now we have the DFT defined for the $m$th element of $X$ as\n",
    "\n",
    "\n",
    "$\\begin{align}\\large{X_m = \\sum_{k=1}^{n} x_k \\cdot e^{-2 \\pi i \\frac{m}{n}k}}\\end{align}$\n",
    "\n",
    "\n",
    "The important detail to verify here is that the last term in this sum is equivalent to the first term of the previous sum.\n",
    "\n",
    "\n",
    "The claim is that $\\varphi(n)$ equals the real part of $X_1$. Writing this in terms of the\n",
    "real cosine component of the above equation: \n",
    "\n",
    "\n",
    "$\\begin{align}\\textrm{Claim: }\\varphi(n) = \\sum_{k=1}^{n} gcd(k, n) \\cdot cos \\left( -2 \\pi \\frac{k}{n} \\right) \\end{align}$\n",
    "\n",
    "\n",
    "Also the imaginary part should be zero. "
   ]
  },
  {
   "cell_type": "code",
   "execution_count": 43,
   "id": "3eeda12e-3838-4740-93a1-1ddb3f72ad6c",
   "metadata": {
    "tags": []
   },
   "outputs": [
    {
     "name": "stdout",
     "output_type": "stream",
     "text": [
      "1 Totient is 1    ...DFT is 1\n",
      "2 Totient is 1    ...DFT is 1\n",
      "3 Totient is 2    ...DFT is 2\n",
      "4 Totient is 2    ...DFT is 2\n",
      "5 Totient is 4    ...DFT is 4\n",
      "6 Totient is 2    ...DFT is 2\n",
      "7 Totient is 6    ...DFT is 6\n",
      "8 Totient is 4    ...DFT is 4\n",
      "9 Totient is 6    ...DFT is 6\n",
      "10 Totient is 4   ...DFT is 4\n",
      "11 Totient is 10  ...DFT is 10\n",
      "12 Totient is 4   ...DFT is 4\n",
      "13 Totient is 12  ...DFT is 12\n",
      "14 Totient is 6   ...DFT is 6\n",
      "15 Totient is 8   ...DFT is 8\n",
      "16 Totient is 8   ...DFT is 8\n",
      "17 Totient is 16  ...DFT is 16\n",
      "18 Totient is 6   ...DFT is 6\n",
      "19 Totient is 18  ...DFT is 18\n",
      "20 Totient is 8   ...DFT is 8\n",
      "21 Totient is 12  ...DFT is 12\n",
      "22 Totient is 10  ...DFT is 10\n",
      "23 Totient is 22  ...DFT is 22\n",
      "24 Totient is 8   ...DFT is 8\n",
      "25 Totient is 20  ...DFT is 20\n",
      "26 Totient is 12  ...DFT is 12\n",
      "27 Totient is 18  ...DFT is 18\n",
      "28 Totient is 12  ...DFT is 12\n",
      "29 Totient is 28  ...DFT is 28\n",
      "30 Totient is 8   ...DFT is 8\n",
      "\n",
      "  Re(DFT) matches the totient for all cases...\n",
      "     ...also Im(DFT) was zero as expected.\n"
     ]
    }
   ],
   "source": [
    "space_buffer = 4\n",
    "real_matches, imag_is_zero = True, True\n",
    "for n in range(1, 31):\n",
    "    DFT_real, DFT_imag, totient = 0., 0., ant.Totient(n)\n",
    "    for k in range(1, n+1):\n",
    "        DFT_real += ant.gcd(k, n) * cos(2 * pi * k / n)\n",
    "        DFT_imag += ant.gcd(k, n) * -1 * sin(2 * pi * k / n)\n",
    "    DFT_real    = int(round(DFT_real, 8))\n",
    "    this_buffer = space_buffer - len(str(n)) - len(str(totient))\n",
    "    print(n, 'Totient is', totient, ' '*this_buffer, '...DFT is', DFT_real)\n",
    "    if not DFT_real == totient: real_matches = False\n",
    "    if fabs(DFT_imag) > 1e-8:   imag_is_zero = False\n",
    "\n",
    "if not real_matches: print('\\n  Oh no: There was at least one mismatch between Re(DFT) and the totient...')\n",
    "else:                print('\\n  Re(DFT) matches the totient for all cases...')\n",
    "if not imag_is_zero: print('     ...also Im(DFT) was somewhere non-zero.')\n",
    "else:                print('     ...also Im(DFT) was zero as expected.')"
   ]
  },
  {
   "cell_type": "markdown",
   "id": "241d1e6d-39f9-4800-9582-b7125b767a68",
   "metadata": {},
   "source": [
    "## Problem 2.1c) Find n for which $\\varphi(n)$ = 12"
   ]
  },
  {
   "cell_type": "code",
   "execution_count": 44,
   "id": "3b845bb6-1a0f-49cc-beaa-529e44f6d07e",
   "metadata": {
    "tags": []
   },
   "outputs": [
    {
     "name": "stdout",
     "output_type": "stream",
     "text": [
      "13 12\n",
      "21 12\n",
      "26 12\n",
      "28 12\n",
      "36 12\n",
      "42 12\n"
     ]
    }
   ],
   "source": [
    "for n in range(1, 625):\n",
    "    if ant.Totient(n) == 12: print(n, ant.Totient(n))"
   ]
  },
  {
   "cell_type": "markdown",
   "id": "2c192fe9-bc6f-42aa-b73c-cd44146a6f79",
   "metadata": {},
   "source": [
    "## Does totient $\\varphi(n)$ have a lower bound?"
   ]
  },
  {
   "cell_type": "code",
   "execution_count": 45,
   "id": "a915b751-3152-45e4-9a76-83a1d6a91d3f",
   "metadata": {},
   "outputs": [
    {
     "name": "stdout",
     "output_type": "stream",
     "text": [
      "...so it appears...\n"
     ]
    },
    {
     "data": {
      "image/png": "[encoded data removed]",
      "text/plain": [
       "<Figure size 640x480 with 1 Axes>"
      ]
     },
     "metadata": {},
     "output_type": "display_data"
    }
   ],
   "source": [
    "from matplotlib import pyplot as plt\n",
    "x, y = [], []\n",
    "for i in range(1, 3001):\n",
    "    x.append(i), y.append(ant.Totient(i))\n",
    "plt.scatter(x, y, c='k', s=1)\n",
    "print(\"...so it appears...\")\n",
    "plt.show()"
   ]
  },
  {
   "cell_type": "markdown",
   "id": "b310ade1-8e08-40b3-8b14-8976c7f7599a",
   "metadata": {},
   "source": [
    "## Problem 2.5\n",
    "\n",
    "Show the Dirichlet product of the Mobius function and $\\nu(n)$ (the number of unique prime factors of $n$) is $1$ or $0$."
   ]
  },
  {
   "cell_type": "code",
   "execution_count": 46,
   "id": "85fe4f76-8389-47cf-a5f4-2a560df5763d",
   "metadata": {},
   "outputs": [
    {
     "name": "stdout",
     "output_type": "stream",
     "text": [
      "1 0\n",
      "2 1\n",
      "3 1\n",
      "4 0\n",
      "5 1\n",
      "6 0\n",
      "7 1\n",
      "8 0\n",
      "9 0\n",
      "10 0\n"
     ]
    }
   ],
   "source": [
    "# empirical check establishes the pattern: n = prime gives 1, 0 otherwise\n",
    "for n in range(1, 100000, 1):\n",
    "    if n < 11:                                                           \n",
    "        print(n, ant.Dirichlet(ant.Mobius, ant.Nu, n))\n",
    "    elif ant.prime(n) and not ant.Dirichlet(ant.Mobius, ant.Nu, n) == 1: \n",
    "        print(\"Prime anomaly at\", n)\n",
    "    elif not ant.prime(n) and ant.Dirichlet(ant.Mobius, ant.Nu, n):      \n",
    "        print(\"Composite anomaly at\", n)"
   ]
  },
  {
   "cell_type": "code",
   "execution_count": 47,
   "id": "3254248c-1657-4af3-9add-4365a258e383",
   "metadata": {},
   "outputs": [
    {
     "name": "stdout",
     "output_type": "stream",
     "text": [
      "6000 integers: products include 5217 zeros, 783 ones, 0 neither, 783 primes\n"
     ]
    }
   ],
   "source": [
    "total0, total1, totalOther, n, nprime = 0, 0, 0, 6000, 0\n",
    "for i in range(1, n+1): \n",
    "    product = ant.Dirichlet(ant.Mobius, ant.Nu, i)\n",
    "    if   product == 0:  total0 += 1\n",
    "    elif product == 1:  total1 += 1\n",
    "    else:               totalOther += 1\n",
    "    if ant.is_prime(i): nprime += 1\n",
    "        \n",
    "print(n, 'integers: products include', total0, 'zeros,', total1, 'ones,', totalOther, 'neither,', nprime, 'primes')"
   ]
  },
  {
   "cell_type": "markdown",
   "id": "de1225c4-f755-4c71-880e-6269248a693d",
   "metadata": {},
   "source": [
    "## 2.9 Extending the totient $\\varphi$ for $x \\in \\mathbb{R}$\n",
    "\n",
    "This problem involves two arguments to the extended totient: A real $x$\n",
    "and our usual integer $n$. So let's try and establish the pattern of\n",
    "behavior by observation.\n",
    "\n",
    "\n",
    "Problem: Suppose $x \\in R$, $x \\ge 1$: Let $\\varphi(x, n)$ denote the number of positive integers $\\le x$ that are relatively prime to $n$.\n",
    "(Notice no qualification of $n$ in relation to $x$.)\n",
    "\n",
    "\n",
    "a) Show $\\varphi(x, n) = \\sum_{d|n} \\mu(d) \\lfloor \\frac{x}{d} \\rfloor$.\n",
    "\n",
    "\n",
    "b) Show $\\sum_{d|n} \\varphi(\\frac{x}{d}, \\frac{n}{d}) = \\lfloor x \\rfloor$."
   ]
  },
  {
   "cell_type": "code",
   "execution_count": 48,
   "id": "6fffa191-e2b2-4b10-8708-1bf6834219fc",
   "metadata": {},
   "outputs": [
    {
     "name": "stdout",
     "output_type": "stream",
     "text": [
      "\n",
      "Part a) test passed\n",
      "\n",
      "when part b) hits a case of x/d < 1: Do a diagnostic print with these columns:\n",
      "n, x, [x], d, x/d, n//d, x-totient(x/d, n/d)\n",
      "\n",
      "6 1.2 1 2 0.6 3 0\n",
      "6 1.2 1 3 0.4 2 0\n",
      "6 1.2 1 6 0.2 1 0\n",
      "6 2.2 2 3 0.733 2 0\n",
      "6 2.2 2 6 0.367 1 0\n",
      "6 4.2 4 6 0.7 1 0\n",
      "16 1.2 1 2 0.6 8 0\n",
      "16 1.2 1 4 0.3 4 0\n",
      "16 1.2 1 8 0.15 2 0\n",
      "16 1.2 1 16 0.075 1 0\n",
      "16 2.2 2 4 0.55 4 0\n",
      "16 2.2 2 8 0.275 2 0\n",
      "16 2.2 2 16 0.138 1 0\n",
      "16 4.2 4 8 0.525 2 0\n",
      "16 4.2 4 16 0.263 1 0\n",
      "16 6.2 6 8 0.775 2 0\n",
      "16 6.2 6 16 0.388 1 0\n",
      "21 1.2 1 3 0.4 7 0\n",
      "21 1.2 1 7 0.171 3 0\n",
      "21 1.2 1 21 0.057 1 0\n",
      "21 2.2 2 3 0.733 7 0\n",
      "21 2.2 2 7 0.314 3 0\n",
      "21 2.2 2 21 0.105 1 0\n",
      "21 4.2 4 7 0.6 3 0\n",
      "21 4.2 4 21 0.2 1 0\n",
      "21 6.2 6 7 0.886 3 0\n",
      "21 6.2 6 21 0.295 1 0\n",
      "21 17.2 17 21 0.819 1 0\n",
      "\n",
      "Part b) test passed\n",
      "\n"
     ]
    }
   ],
   "source": [
    "test_x_values = [1.2, 2.2, 4.2, 6.2, 17.2]\n",
    "test_n_values = [1, 6, 16, 21]\n",
    "\n",
    "# print(\"\\nx, n, ex-tot\\n\")\n",
    "\n",
    "# part a) Extended totient\n",
    "part_a_exception = False\n",
    "for n in test_n_values:\n",
    "    for x in test_x_values:\n",
    "        extended_totient = ant.ExtendedTotient(x, n)\n",
    "        to_prove_sum = 0\n",
    "        for d in ant.divisors(n):\n",
    "            to_prove_sum += ant.Mobius(d) * ant.floor(x/d)\n",
    "        # print(x, n, extended_totient)\n",
    "        if not extended_totient == to_prove_sum:\n",
    "            part_a_exception = True\n",
    "            print(\"Exception, part a:\", n, x, extended_totient, to_prove_sum)\n",
    "            \n",
    "if not part_a_exception: print(\"\\nPart a) test passed\\n\")\n",
    "else: print(\"\\nPart a) test failed\\n\")\n",
    "                  \n",
    "# part b)\n",
    "print('when part b) hits a case of x/d < 1: Do a diagnostic print with these columns:')\n",
    "print('n, x, [x], d, x/d, n//d, x-totient(x/d, n/d)\\n')\n",
    "\n",
    "part_b_exception = False\n",
    "for n in test_n_values:\n",
    "    for x in test_x_values:\n",
    "        extended_totient_sum = 0\n",
    "        for d in ant.divisors(n):\n",
    "            extended_totient_sum += ant.ExtendedTotient(x/d, n/d)\n",
    "            if (x/d < 1): print(n, x, ant.floor(x), d, round(x/d, 3), n//d, ant.ExtendedTotient(x/d, n/d))\n",
    "        if not extended_totient_sum == ant.floor(x):\n",
    "            part_b_exception = True\n",
    "            print(\"Exception, part b:\", n, x, extended_totient_sum, ant.floor(x))\n",
    "        \n",
    "if not part_b_exception: print(\"\\nPart b) test passed\\n\")\n",
    "else: print(\"\\nPart b) test failed\\n\")"
   ]
  },
  {
   "cell_type": "markdown",
   "id": "dc1b39f9-c171-4780-9f7c-e2e9ec24b0fb",
   "metadata": {},
   "source": [
    "### Problem 2.9 continued\n",
    "\n",
    "\n",
    "From looking into part b) by hand: The sum of extended totients works as advertised; but the \n",
    "extended totient is passed real argument $x/d < 1$, a consequence of allowing $x < n$. \n",
    "Example: $x = 17$, $n = 21$: $d = \\{ 1, 3, 7, 21 \\}$ and extended totient argument pairs\n",
    "are $(17, 21), \\ (5.67, 7), \\ (2.43, 3), \\ (.81, 1)$.\n",
    "The extended totient returns zero in such cases; and this does not alter the\n",
    "sum. So define the extended totient to be zero for $x < 1$ and everything is fine.\n",
    "\n",
    "\n",
    "\n"
   ]
  },
  {
   "cell_type": "code",
   "execution_count": 49,
   "id": "da53df9a-b78b-4185-b295-4a016c198abc",
   "metadata": {},
   "outputs": [
    {
     "name": "stdout",
     "output_type": "stream",
     "text": [
      "1: 1 1 1 1\n",
      "2: 1 1 1 1\n",
      "3: 1 2 3 5\n",
      "4: 1 2 4 10\n",
      "15: 1 8 60 620\n",
      "30: 1 8 120 2360\n",
      "60: 1 16 480 19120\n",
      "2400: 1 640 768000 1228796800\n"
     ]
    }
   ],
   "source": [
    "# generalized totient calculations\n",
    "\n",
    "x = [1, 2, 3, 4, 15, 30, 60, 2400]\n",
    "\n",
    "for n in x:\n",
    "    print(str(n) + ':',\n",
    "      ant.Totient(1), \n",
    "      ant.GeneralizedTotient(0, n), \n",
    "      ant.GeneralizedTotient(1, n),\n",
    "      ant.GeneralizedTotient(2, n))\n"
   ]
  },
  {
   "cell_type": "markdown",
   "id": "3db6dbb0-d53f-480d-a322-eb527399ef45",
   "metadata": {},
   "source": [
    "## 2.12 Show that $\\sum_{t|n} d(t)^3 = \\bigl( \\sum_{t|n} d(t)\\bigr)^2$\n",
    "\n",
    "\n",
    "If $d(n)$ is multiplicative then $d^3$ will be as well. This code checks\n",
    "for $n = 2160$."
   ]
  },
  {
   "cell_type": "code",
   "execution_count": 50,
   "id": "6aa94f05-9483-41e7-8f3e-409c495537d2",
   "metadata": {},
   "outputs": [
    {
     "name": "stdout",
     "output_type": "stream",
     "text": [
      "2160 has 40 divisors\n",
      "\n",
      "1 1 2160 40    product: 40      d-count of t*c: 40\n",
      "5 2 432 20    product: 40      d-count of t*c: 40\n",
      "16 5 135 8    product: 40      d-count of t*c: 40\n",
      "27 4 80 10    product: 40      d-count of t*c: 40\n",
      "80 10 27 4    product: 40      d-count of t*c: 40\n",
      "135 8 16 5    product: 40      d-count of t*c: 40\n",
      "432 20 5 2    product: 40      d-count of t*c: 40\n",
      "2160 40 1 1    product: 40      d-count of t*c: 40\n",
      "\n",
      "1 1 2160 64000    product: 64000      d**3 for t*c: 64000\n",
      "5 8 432 8000    product: 64000      d**3 for t*c: 64000\n",
      "16 125 135 512    product: 64000      d**3 for t*c: 64000\n",
      "27 64 80 1000    product: 64000      d**3 for t*c: 64000\n",
      "80 1000 27 64    product: 64000      d**3 for t*c: 64000\n",
      "135 512 16 125    product: 64000      d**3 for t*c: 64000\n",
      "432 8000 5 8    product: 64000      d**3 for t*c: 64000\n",
      "2160 64000 1 1    product: 64000      d**3 for t*c: 64000\n"
     ]
    }
   ],
   "source": [
    "import ant\n",
    "\n",
    "p = [2, 3, 5]\n",
    "e = [4, 3, 1]\n",
    "n = p[0]**e[0] * p[1]**e[1] * p[2]**e[2]\n",
    "d = (e[0]+1)*(e[1]+1)*(e[2]+1)\n",
    "d2 = len(ant.divisors(n))\n",
    "if not d == d2: print('divisor count mismatch')\n",
    "print(n, 'has', ant.d(n), 'divisors')\n",
    "\n",
    "print()\n",
    "\n",
    "# demonstrate d(n) the number of divisors of n is multiplicative\n",
    "#   go through all t | n\n",
    "#   for each calculate a complement n/t\n",
    "d = ant.divisors(n)\n",
    "for t in d:\n",
    "    c = n//t\n",
    "    if ant.gcd(t, c) == 1:\n",
    "        print(t, ant.d(t), c, ant.d(c), '   product:', \n",
    "          ant.d(t)*ant.d(c), '     d-count of t*c:', ant.d(t*c))\n",
    "\n",
    "print()\n",
    "\n",
    "# demonstrate d(n)**3 is multiplicative\n",
    "d = ant.divisors(n)\n",
    "for t in d:\n",
    "    c = n//t\n",
    "    if ant.gcd(t, c) == 1:\n",
    "        print(t, ant.d(t)**3, c, ant.d(c)**3, '   product:', \n",
    "          ant.d(t)**3*ant.d(c)**3, '     d**3 for t*c:', ant.d(t*c)**3)"
   ]
  },
  {
   "cell_type": "markdown",
   "id": "b91993f1-86fb-4281-b043-878aa70a2630",
   "metadata": {},
   "source": [
    "## Problem 2.13\n",
    "\n",
    "This problem is thematic to chapters 1 and 2 as it brings together several important ideas. The problem \n",
    "is easily solved by Chip Hurst in a couple of lines but I belabor matters.\n",
    "\n",
    "\n",
    "The problem is advertised as \"*The product form of the Mobius inversion formula*\": \n",
    "Start with a function $f(n) > 0 \\; \\forall \\; n$ and a second real-valued function $a(n)$ \n",
    "where $a(1) \\ne 0$. Show that \n",
    "\n",
    "\n",
    "$\\begin{align}\n",
    "\\large{g(n)=\\prod_{d|n}{f(d)^{a(n/d)}} \\; \\iff \\; f(n)=\\prod_{d|n}{g(d)^{a^{-1}(n/d)}}.}\n",
    "\\end{align}$\n",
    "\n",
    "\n",
    "The exponentiation is not a typo! Here $a$ and $a^{-1}$ are Dirichlet inverse functions. \n",
    "(The problem statement in the text uses $b$ in place of $a^{-1}$.)\n",
    "\n",
    "\n",
    "***Note: Mobius inversion sets up a relationship between two functions f and g\n",
    "via the Mobius function. This is not the same thing as Dirichlet inversion \n",
    "where $f * f^{-1} = f^{-1} * f = I.$***\n",
    "\n",
    "\n",
    "Zeroth belabor: Confirm the recursive formula for the Dirichlet inverse for \n",
    "\n",
    "\n",
    "- $f(n) = n$\n",
    "- $f(n) = \\mu(n)$\n",
    "- $f(n) = n^2$\n",
    "- $f(n) = -random-$\n",
    "\n",
    "\n",
    "First belabor: Demonstrate the unit function u(n) = 1 is the Dirichlet inverse of \n",
    "the Mobius function.\n",
    "\n",
    "Second belabor: The Mobius Inversion Formula presents a function's inverse\n",
    "in terms of a sum involving the Mobius function. This can be recursively substituted \n",
    "to give the function in terms of itself. Check this\n",
    "empirically using $f(n) = n$.\n",
    "\n",
    "\n",
    "Third belabor: With $f$ as above and defining the second function $a$ the same as\n",
    "$f$: $a(n)=n$: Does the product form of the Mobius Inversion Formula yield $f$ via $g$?\n"
   ]
  },
  {
   "cell_type": "code",
   "execution_count": 51,
   "id": "a96927f5-b6dd-4e9a-9986-ca85c1474409",
   "metadata": {},
   "outputs": [
    {
     "name": "stdout",
     "output_type": "stream",
     "text": [
      "Problem 2.13 on the product form of the Mobius Inversion Formula...            \n",
      "   Part 0: Show the Dirichlet inverse by recursion works properly (gives I).   \n",
      "                                                                               \n",
      "Let's try with four functions: N(n), Mobius(n), n squared and random.          \n",
      "  The product should be the identity function I: [1, 0, 0, 0, ...]             \n",
      "  These examples should show that the Dirichlet product of a function and its  \n",
      "    inverse is equal to I. Dirichlet inverse recursion is stated as:           \n",
      "        f-1(1) = 1/f(1); and then for n > 1:                                   \n",
      "        f-1(n) = -1/f(1) multiplied by S where                                 \n",
      "                                                                               \n",
      " S = sum over d divides n, d less than n: Of E where                           \n",
      "                                                                               \n",
      " E = f(n/d) multiplied by f-1(d). Noting d < n is key to recursion.            \n",
      "                                                                               \n",
      "[1, 2, 3, 4, 5, 6, 7, 8, 9, 10, 11, 12, 13, 14, 15, 16, 17, 18, 19, 20]\n",
      "[1.0, -2.0, -3.0, -0.0, -5.0, 6.0, -7.0, -0.0, -0.0, 10.0, -11.0, -0.0, -13.0, 14.0, 15.0, -0.0, -17.0, -0.0, -19.0, -0.0]\n",
      "[1.0, 0.0, 0.0, 0.0, 0.0, 0.0, 0.0, 0.0, 0.0, 0.0, 0.0, 0.0, 0.0, 0.0, 0.0, 0.0, 0.0, 0.0, 0.0, 0.0]\n",
      "\n",
      "\n",
      "\n",
      "[1, -1, -1, 0, -1, 1, -1, 0, 0, 1, -1, 0, -1, 1, 1, 0, -1, 0, -1, 0]\n",
      "[1.0, 1.0, 1.0, 1.0, 1.0, 1.0, 1.0, 1.0, 1.0, 1.0, 1.0, 1.0, 1.0, 1.0, 1.0, 1.0, 1.0, 1.0, 1.0, 1.0]\n",
      "[1.0, 0.0, 0.0, 0.0, 0.0, 0.0, 0.0, 0.0, 0.0, 0.0, 0.0, 0.0, 0.0, 0.0, 0.0, 0.0, 0.0, 0.0, 0.0, 0.0]\n",
      "\n",
      "\n",
      "\n",
      "[1, 4, 9, 16, 25, 36, 49, 64, 81, 100, 121, 144, 169, 196, 225, 256, 289, 324, 361, 400]\n",
      "[1.0, -4.0, -9.0, -0.0, -25.0, 36.0, -49.0, -0.0, -0.0, 100.0, -121.0, -0.0, -169.0, 196.0, 225.0, -0.0, -289.0, -0.0, -361.0, -0.0]\n",
      "[1.0, 0.0, 0.0, 0.0, 0.0, 0.0, 0.0, 0.0, 0.0, 0.0, 0.0, 0.0, 0.0, 0.0, 0.0, 0.0, 0.0, 0.0, 0.0, 0.0]\n",
      "\n",
      "\n",
      "\n",
      "[1, 1, 19, -10, 0, 5, -14, -20, -12, 6, 5, 3, -10, -4, 15, -2, 17, -13, -9, 4]\n",
      "[1.0, -1.0, -19.0, 11.0, -0.0, 33.0, 14.0, -1.0, 373.0, -6.0, -5.0, -430.0, 10.0, -24.0, -15.0, 93.0, -17.0, -904.0, 9.0, 8.0]\n",
      "[1.0, 0.0, 0.0, 0.0, 0.0, 0.0, 0.0, 0.0, 0.0, 0.0, 0.0, 0.0, 0.0, 0.0, 0.0, 0.0, 0.0, 0.0, 0.0, 0.0]\n",
      "\n",
      "\n",
      "\n"
     ]
    }
   ],
   "source": [
    "# Zeroth and First Belabors\n",
    "\n",
    "\n",
    "print(\"Problem 2.13 on the product form of the Mobius Inversion Formula...            \")\n",
    "print(\"   Part 0: Show the Dirichlet inverse by recursion works properly (gives I).   \")\n",
    "print(\"                                                                               \")\n",
    "print(\"Let's try with four functions: N(n), Mobius(n), n squared and random.          \")\n",
    "print(\"  The product should be the identity function I: [1, 0, 0, 0, ...]             \")\n",
    "print(\"  These examples should show that the Dirichlet product of a function and its  \")\n",
    "print(\"    inverse is equal to I. Dirichlet inverse recursion is stated as:           \")\n",
    "print(\"        f-1(1) = 1/f(1); and then for n > 1:                                   \")\n",
    "print(\"        f-1(n) = -1/f(1) multiplied by S where                                 \")\n",
    "print(\"                                                                               \")\n",
    "print(\" S = sum over d divides n, d less than n: Of E where                           \")\n",
    "print(\"                                                                               \")\n",
    "print(\" E = f(n/d) multiplied by f-1(d). Noting d < n is key to recursion.            \")\n",
    "print(\"                                                                               \")\n",
    "\n",
    "# Test functions are defined for integer n > 0 and parameter p\n",
    "def fn1(n, p): return n\n",
    "def fn2(n, p): return ant.Mobius(n)\n",
    "def fn3(n, p): return n**2\n",
    "def fn4(n, p): \n",
    "    if n == 1: return 1\n",
    "    return randint(-p, p)\n",
    "\n",
    "test_n = 20\n",
    "p = 20\n",
    "for t in [fn1, fn2, fn3, fn4]:\n",
    "    F     = [t(n, p) for n in range(1, test_n + 1)]   # F[] is a test function\n",
    "    F_inv = [1/F[0]]                                  # F_inv[] will be the inverse of F through recursion\n",
    "\n",
    "    factor1 = -1/F[0]\n",
    "    for i in range(1, test_n):\n",
    "        n = i + 1\n",
    "        S = 0\n",
    "        for d in ant.divisors_less_n(n):\n",
    "            # print(n, d, n//d)\n",
    "            S += F[n//d-1]*F_inv[d-1]\n",
    "        F_inv.append(factor1 * S)\n",
    "    print(F)\n",
    "    print(F_inv)\n",
    "    print(ant.ScanningListDirichlet(F, F_inv))\n",
    "    print('\\n\\n')\n",
    "    \n",
    "    "
   ]
  },
  {
   "cell_type": "code",
   "execution_count": 52,
   "id": "e8ecfaf9-ef4d-4ac7-a3bb-e9f3e4c37624",
   "metadata": {},
   "outputs": [
    {
     "name": "stdout",
     "output_type": "stream",
     "text": [
      "  U = [1, 1, 1, 1, 1, 1, 1, 1, 1, 1, 1, 1, 1, 1, 1, 1, 1, 1, 1, 1]\n",
      "  mu = [1, -1, -1, 0, -1, 1, -1, 0, 0, 1, -1, 0, -1, 1, 1, 0, -1, 0, -1, 0]\n",
      "\n",
      "\n",
      "First demo: Produce f from g and then reproduce g \"version 2\":\n",
      "  G = [1, -1, -1, 0, -1, 1, -1, 0, 0, 1, -1, 0, -1, 1, 1, 0, -1, 0, -1, 0]\n",
      "  F = [1, 0, 0, 0, 0, 0, 0, 0, 0, 0, 0, 0, 0, 0, 0, 0, 0, 0, 0, 0]\n",
      "  G2 = [1, -1, -1, 0, -1, 1, -1, 0, 0, 1, -1, 0, -1, 1, 1, 0, -1, 0, -1, 0]\n",
      "\n",
      "Second demo: Produce g from f and then reproduce f \"version 2\":\n",
      "  F = [1, 2, 3, 4, 5, 6, 7, 8, 9, 10, 11, 12, 13, 14, 15, 16, 17, 18, 19, 20]\n",
      "  G = [1, 1, 2, 2, 4, 2, 6, 4, 6, 4, 10, 4, 12, 6, 8, 8, 16, 6, 18, 8]\n",
      "  F2 = [1, 2, 3, 4, 5, 6, 7, 8, 9, 10, 11, 12, 13, 14, 15, 16, 17, 18, 19, 20]\n",
      "\n"
     ]
    }
   ],
   "source": [
    "# Second belabor: Show that the Mobius Inversion Formula returns g by substitution:\n",
    "#   Define an a-function f as the sum over d|n of some g(d). This can be expressed as \n",
    "#   the Dirichlet product of g with u: f = g * u. Claim: g can be recovered as the \n",
    "#   Dirichlet product of f and mu: g = f * mu. This from that mu and u are Dirichlet inverses.\n",
    "# \n",
    "#   The first demo calculates f as g * u and generates g back again as f * mu.\n",
    "#   The second demo takes an arbitrary f = N(n) and calculates g; then shows this \n",
    "#     regenerates f.\n",
    "\n",
    "Ulist   = [ant.U(i+1)                             for i in range(test_n)]\n",
    "mulist  = [ant.Mobius(i+1)                        for i in range(test_n)]\n",
    "GMobius = [ant.Mobius(i+1)                        for i in range(test_n)]\n",
    "F       = [ant.ListDirichlet(GMobius, Ulist, i+1) for i in range(test_n)] \n",
    "GRegen  = [ant.ListDirichlet(F, mulist, i+1)      for i in range(test_n)]\n",
    "\n",
    "print('  U = ' + str(Ulist))\n",
    "print('  mu = ' + str(mulist))\n",
    "print('\\n')\n",
    "\n",
    "print('First demo: Produce f from g and then reproduce g \"version 2\":')\n",
    "print('  G = ' + str(GMobius))\n",
    "print('  F = ' + str(F))\n",
    "print('  G2 = ' + str(GRegen))\n",
    "print()\n",
    "\n",
    "F  = [ant.N(i+1)                        for i in range(test_n)] \n",
    "G  = [ant.ListDirichlet(F, mulist, i+1) for i in range(test_n)]\n",
    "F2 = [ant.ListDirichlet(G, Ulist, i+1)  for i in range(test_n)]\n",
    "\n",
    "print('Second demo: Produce g from f and then reproduce f \"version 2\":')\n",
    "print('  F = ' + str(F))\n",
    "print('  G = ' + str(G))\n",
    "print('  F2 = ' + str(F2))\n",
    "print()"
   ]
  },
  {
   "cell_type": "code",
   "execution_count": 53,
   "id": "87e1aaa1-2769-4f20-ac86-66a6acdd12b9",
   "metadata": {},
   "outputs": [
    {
     "name": "stdout",
     "output_type": "stream",
     "text": [
      "0\n"
     ]
    }
   ],
   "source": [
    "# Third belabor: Demonstrate that the product form of the Mobius Inversion Formula works as advertised.\n",
    "#   First condition: f(n) > 0 for all n: Define f(n) = n as above.\n",
    "#   Second condition: a(n) is real and a(1) is not zero: Set a(n) = n\n",
    "#   Third condition: a-inv is the Dirichlet inverse of a(n): a-inv(n) = n times mu(n) (not a Dirichlet product).\n",
    "#\n",
    "#   Result to show: Define g as the product over divisors d: f(d) raised to the a(n/d); if and only if \n",
    "#       f is the product over divisors d of g(d) raised to the a-inv(n/d). \n",
    "\n",
    "def a(n): return ant.N(n)\n",
    "\n",
    "def a_inverse(n): return ant.N(n)*ant.Mobius(n)\n",
    "\n",
    "print(ant.Dirichlet(a, a_inverse, 3))      # Confirms result is I(n)"
   ]
  },
  {
   "cell_type": "markdown",
   "id": "ebb12644-d9d4-45f7-8814-ab7559aad221",
   "metadata": {},
   "source": [
    "## 2.15 Prove an equality involving a sum of generalized Euler totient functions. \n",
    "\n",
    "\n",
    "Totient $\\varphi (n)$ is the number of relative primes less than $n$. \n",
    "\n",
    "\n",
    "Generalized totient $\\varphi_k(n) = \\sum_{m<n \\textrm{ and } (m,n)=1}m^k$.\n",
    "\n",
    "\n",
    "When $k=0$ we have $\\varphi_{0}(n) = \\varphi (n)$.\n",
    "\n",
    "\n",
    "For $k=2$ and $n=7$ we have relative primes $1, 2, 3, 4, 5, 6$ and $\\varphi_2(7) = 1^2 + 2^2 + 3^2 + 4^2 + 5^2 + 6^2$. \n",
    "\n",
    "\n",
    "Problem: Show \n",
    "\n",
    "\n",
    "$\\begin{align}\\sum_{d|n} \\frac{\\varphi_k(d)}{d^k} = \\frac{1^k + 2^k + \\cdots + n^k}{n^k}\\end{align}$\n",
    "\n",
    "\n",
    "The following code shows that equality holds pretty reliably... maybe with the occasional Python rounding error."
   ]
  },
  {
   "cell_type": "code",
   "execution_count": 54,
   "id": "bd9136a6-cd43-4ac4-a9b9-14579cb42d88",
   "metadata": {},
   "outputs": [],
   "source": [
    "first_n = 1\n",
    "last_n = 60\n",
    "first_k = 0\n",
    "last_k = 5\n",
    "precision = 1\n",
    "for n in range(first_n, last_n + 1,1):\n",
    "    for k in range(first_k, last_k + 1, 1):\n",
    "        lhs_sum = 0\n",
    "        for d in ant.divisors(n): \n",
    "            lhs_sum += ant.GeneralizedTotient(k, d) / d**k\n",
    "        rhs_sum = 0\n",
    "        for i in range(1, n+1, 1): rhs_sum += i**k\n",
    "        rhs       = rhs_sum / (n**k)\n",
    "        ratio_sum = round(lhs_sum, precision)\n",
    "        sum_ratio = round(rhs, precision)\n",
    "        if not ratio_sum == sum_ratio: \n",
    "            print(\"ERROR...........\")\n",
    "            print(n, k, ratio_sum, sum_ratio)"
   ]
  },
  {
   "cell_type": "code",
   "execution_count": null,
   "id": "b7aafd10-0ebb-49f5-8a89-1bcdaf658d06",
   "metadata": {},
   "outputs": [],
   "source": []
  },
  {
   "cell_type": "code",
   "execution_count": null,
   "id": "6f2b2263-ec82-4080-862a-e7168d8090a0",
   "metadata": {},
   "outputs": [],
   "source": []
  },
  {
   "cell_type": "code",
   "execution_count": null,
   "id": "3a949f03-2aed-4d52-b576-a424b5a01635",
   "metadata": {},
   "outputs": [],
   "source": []
  },
  {
   "cell_type": "markdown",
   "id": "40460215-089b-4773-93f1-dfb99c407481",
   "metadata": {},
   "source": [
    "## 2.25"
   ]
  },
  {
   "cell_type": "code",
   "execution_count": 57,
   "id": "c7cc28d9-7419-454d-bb65-45000c824513",
   "metadata": {},
   "outputs": [
    {
     "name": "stdout",
     "output_type": "stream",
     "text": [
      "n     tot      mu      tot*mu      tm*m      I\n",
      "1       1       1       1       1       1\n",
      "2       1       -1       -1       0       0\n",
      "3       2       -1       -2       0       0\n",
      "4       2       0       0       1       0\n",
      "5       4       -1       -4       0       0\n",
      "6       2       1       2       0       0\n",
      "7       6       -1       -6       0       0\n",
      "8       4       0       0       2       0\n",
      "9       6       0       0       2       0\n",
      "10       4       1       4       0       0\n",
      "11       10       -1       -10       0       0\n",
      "12       4       0       0       0       0\n",
      "13       12       -1       -12       0       0\n",
      "14       6       1       6       0       0\n",
      "15       8       1       8       0       0\n",
      "16       8       0       0       4       0\n",
      "17       16       -1       -16       0       0\n",
      "18       6       0       0       0       0\n",
      "19       18       -1       -18       0       0\n",
      "20       8       0       0       0       0\n",
      "21       12       1       12       0       0\n",
      "22       10       1       10       0       0\n",
      "23       22       -1       -22       0       0\n",
      "24       8       0       0       0       0\n",
      "25       20       0       0       4       0\n",
      "26       12       1       12       0       0\n",
      "27       18       0       0       6       0\n",
      "28       12       0       0       0       0\n",
      "29       28       -1       -28       0       0\n",
      "30       8       -1       -8       0       0\n",
      "31       30       -1       -30       0       0\n",
      "32       16       0       0       8       0\n",
      "33       20       1       20       0       0\n",
      "34       16       1       16       0       0\n",
      "35       24       1       24       0       0\n",
      "36       12       0       0       2       0\n",
      "37       36       -1       -36       0       0\n",
      "38       18       1       18       0       0\n",
      "39       24       1       24       0       0\n",
      "40       16       0       0       0       0\n",
      "41       40       -1       -40       0       0\n",
      "42       12       -1       -12       0       0\n"
     ]
    }
   ],
   "source": [
    "print(\"n     tot      mu      tot*mu      tm*m      I\")\n",
    "for n in range(1, 43):\n",
    "    t = ant.Totient(n)\n",
    "    m = ant.Mobius(n)\n",
    "    d = ant.Dirichlet(ant.TotientMobiusProduct, ant.Totient, n)\n",
    "    I = 1 if n == 1 else 0\n",
    "    print(n, '     ', t, '     ', m, '     ', t*m, '     ', d, '     ', I)"
   ]
  },
  {
   "cell_type": "code",
   "execution_count": null,
   "id": "87084822-3919-4140-a0da-febef50e2b59",
   "metadata": {},
   "outputs": [],
   "source": []
  }
 ],
 "metadata": {
  "kernelspec": {
   "display_name": "Python 3 (ipykernel)",
   "language": "python",
   "name": "python3"
  },
  "language_info": {
   "codemirror_mode": {
    "name": "ipython",
    "version": 3
   },
   "file_extension": ".py",
   "mimetype": "text/x-python",
   "name": "python",
   "nbconvert_exporter": "python",
   "pygments_lexer": "ipython3",
   "version": "3.13.4"
  }
 },
 "nbformat": 4,
 "nbformat_minor": 5
}
