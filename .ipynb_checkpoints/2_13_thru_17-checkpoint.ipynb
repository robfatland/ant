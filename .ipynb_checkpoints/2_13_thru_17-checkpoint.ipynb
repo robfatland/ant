{
 "cells": [
  {
   "cell_type": "markdown",
   "id": "40ad0467-07ea-42fb-8bf5-af7a05798c7c",
   "metadata": {},
   "source": [
    "## 2.13 *Product form of the Möbius inversion formula*\n",
    "\n",
    "\n",
    "***There is a section in the *examples* notebook on this problem.***\n",
    "\n",
    "\n",
    "Here 'inverse' is shorthand for 'Dirichlet inverse' meaning \n",
    "$f * f^{-1} = f^{-1} * f = I$. \n",
    "\n",
    "\n",
    "Recall $I(1) = 1$ and $I(n) = 0$ for $n > 1$.\n",
    "\n",
    "\n",
    "If $f(n) > 0$ for all $n$ and if $a(n)$ is real with $a(1) \\ne 0$, prove that\n",
    "\n",
    "\n",
    "$\n",
    "\\begin{align}\n",
    "g(n) =  \\prod_{d|n}f(d)^{a(\\frac{n}{d})} \\;\\; \\textrm{ if and only if } \\;\\; f(n)=\\prod_{d|n}g(d)^{a^{-1}(\\frac{n}{d})},\n",
    "\\end{align}\n",
    "$\n",
    "\n",
    "\n",
    "- We have a recursive means of generating the inverse of a function.\n",
    "- We have the Möbius inversion formula relating two functions $f()$ and $g()$ \n",
    "in terms of a third function $a()$ and its inverse $a^{-1}()$.\n",
    "    - This does not mean $f()$ and $g()$ are mutual inverses...\n",
    "    - ...nor does it provide a formula for $a^{-1}()$ in terms of $a()$.\n"
   ]
  },
  {
   "cell_type": "markdown",
   "id": "a026fedc-c0c3-4cc3-82e9-46ac5516c6c0",
   "metadata": {},
   "source": [
    "Begin by defining a function $g()$ in terms of real-valued arithmetic functions \n",
    "\n",
    "\n",
    "- $f(n) > 0$ \n",
    "- $a(n)$ with $a(1) \\ne 0$.\n",
    "\n",
    "\n",
    "$\\begin{align}\n",
    "g(n) =  \\prod_{d \\mid n}f(d)^{a(\\frac{n}{d})}\n",
    "\\end{align}$"
   ]
  },
  {
   "cell_type": "markdown",
   "id": "f442b0bf-7265-4278-a1b4-13ebe9707f60",
   "metadata": {},
   "source": [
    "As $f$ and $g$ are positive-valued we can take the $log$ of both sides of this equation... loh"
   ]
  },
  {
   "cell_type": "markdown",
   "id": "76733e91-4c31-4774-8e11-2b4d83242dd3",
   "metadata": {},
   "source": []
  },
  {
   "cell_type": "markdown",
   "id": "b655a483-6f23-487d-a4e4-0f79c1a32afa",
   "metadata": {},
   "source": []
  },
  {
   "cell_type": "markdown",
   "id": "d434fe65-1d1a-4faa-aa65-9acc0883373a",
   "metadata": {},
   "source": [
    "## 2.14 On functions of x rational on $[0, 1]$ and on roots of unity\n",
    "\n",
    "\n",
    "\n",
    "\n"
   ]
  },
  {
   "cell_type": "markdown",
   "id": "628c7bfe-e0ed-48df-bd4c-d162cacf836e",
   "metadata": {},
   "source": [
    "Part (a): Let $f(x)$ be defined for all rational $x$ on $[0, 1]$. Define two\n",
    "functions $F(n)$ and $F^*(n)$ in terms of $f(x)$: \n",
    "\n",
    "\n",
    "$\\begin{align}\n",
    "F(n) = \\sum_{k=1}^{n} f \\Bigl( \\frac{k}{n} \\Bigr)\n",
    "\\end{align}$\n",
    "\n",
    "\n",
    "$\\begin{align}\n",
    "F^*(n) = \\sum_{k=1 \\atop (k, n)=1}^{n} f \\Bigl( \\frac{k}{n} \\Bigr)\n",
    "\\end{align}$\n",
    "\n",
    "\n",
    "Show $F^* = \\mu * F$\n",
    "\n",
    "\n",
    "Observation: \n",
    "\n",
    "\n",
    "- Functions $F$ and $F^*$ are sums over ratios with denominator $n$\n",
    "    - Part (a) as a Dirichlet product implies a second sum over $d|n$\n",
    "    - This is interesting to calculate using $n=12$...\n",
    "        - ...where we have $k$ and $d$ running through appropriate values \n",
    "    - Encouragingly $F^* = \\mu * F$ works; so easy out via counterexample "
   ]
  },
  {
   "cell_type": "markdown",
   "id": "798a2808-09f5-4efc-941c-ecfdc89e87e6",
   "metadata": {},
   "source": [
    "**Chip's Lemma for problem 2.14**\n",
    "\n",
    "\n",
    "Chip begins by proving a Lemma: For $n \\ge 1$ the set $S_n$ defined below proves to\n",
    "be $\\{1, 2, 3, \\dots, n\\}$. \n",
    "\n",
    "\n",
    "Definition: $S_n = \\{ \\alpha = nk/d \\ni d|n \\textrm{ and } 1 \\le k \\le d \\textrm{ and } (k, d) = 1 \\}$.\n",
    "\n",
    "\n",
    "Chip proves this lemma in two steps which I outline and then follow. But why is \n",
    "this worth belaboring? Answer: Because the elements of $S_n$ are not *numbers per se* but\n",
    "rather are tuples $(k, d)$ which are combined with $n$ to *produce* numbers. We might \n",
    "have $n = 11$ and $k = 7$ and $d = 9$ a distinct element of $n = 11$ and $k = 9$ and $d = 7$.\n",
    "(In reality this is a bit labored once we notice be the stipulation $k \\le d$. But\n",
    "just for the formalism I'm going to follow along on Chip's solution with this possibility\n",
    "of multiplicity in values for $\\alpha \\in S_n$.\n",
    "\n",
    "\n",
    "Plan for Lemma proof: \n",
    "First as $k/d$ is less than or equal to $1$ in this definition, and since $d$ divides $n$: \n",
    "The values of $S_n$ defined as $nk/d$ will take on values in the range $[1, n]$. Let's say these are\n",
    "*candidate* $\\alpha$ values. In step 1 Chip establishes that all these $\\alpha$ values are in fact\n",
    "elements of $S_n$. Hence they comprise a subset of $S_n$. \n",
    "\n",
    "\n",
    "The second step in the proof shows that $S_n$ is a subset of $\\{ 1, \\dots, n\\}$ because\n",
    "there is *no multiplicity* in values of $\\alpha$. So this takes advantage of the notion that \n",
    "when two sets are subsets of one another they are equal."
   ]
  },
  {
   "cell_type": "markdown",
   "id": "72e1114c-234d-4b3d-959e-686785ca6e25",
   "metadata": {},
   "source": [
    "**Chip's Lemma Proof Step One**\n",
    "\n",
    "Consider the values $1, \\dots, n$; choose one, call it $m$, and establish that\n",
    "$m$ is an element of $S_n$ according to the definition: Form the ratio $m/n$\n",
    "and cancel out any common factors to arrive at a second ratio called $k/d$ \n",
    "where $(k, d) = 1$. Now $m/n = k/d$ so $m=nk/d$ and we just need to verify that\n",
    "this candidate value satisfies the definition of an element of $S_n$ coincidentally\n",
    "defined as $\\alpha = nk/d$. \n",
    "\n",
    "\n",
    "- Does $d$ divide $n$? Yes because $d = n \\cdot \\textrm{ some factor (maybe 1) }$. \n",
    "- Is $1 \\le k \\le d$? Yes because $1 \\le m \\le n$.\n",
    "- Is $(k, d) = 1$? Yes through cancellation of common factors.\n",
    "\n",
    "\n",
    "So $k$ and $d$ exist such that $m = nk/d$ is an element of $S_n$. This is for any choice of \n",
    "$m \\in \\{1, \\dots, n\\}$ so there: $\\{1, \\dots , n\\} \\subseteq S_n$.\n"
   ]
  },
  {
   "cell_type": "markdown",
   "id": "32602348-291e-48a5-9d74-0ddeb0bfa426",
   "metadata": {},
   "source": [
    "Let's do a check: Consider $n = 21$ and try values\n",
    "$m=11$ and $m=7$. For $m=11$ we have $m/n = 11/21$ and $k/d = 11/21$ as well. This \n",
    "holds up: $(11,21)=1$.\n",
    "For $m=7$ we have $m/n = 7/21 = 1/3 = k/d$ so $k=1$, $d=3$ and $(1, 3)=1$. "
   ]
  },
  {
   "cell_type": "markdown",
   "id": "eae64f01-37ee-4149-a657-689a27f2f690",
   "metadata": {},
   "source": [
    "The fact that all of the numbers in $\\{1, \\dots, n\\}$ combined with $\\alpha \\in [1, n]$\n",
    "is sufficient proof. But to continue with this multiplicity idea: \n",
    "\n",
    "\n",
    "**Chip's Lemma Proof Step Two**\n",
    "\n",
    "\n",
    "Elements $\\alpha \\in S_n$ are composed as $nk/d$ in terms of $d$ and $k$ which may vary \n",
    "with $n$ fixed. Can two elements of $S_n$ have equal value with distinct $d$ and $k$? If \n",
    "that were the case then (removing fixed $n$) we would have $k_1/d_1 = k_2/d_2$; \n",
    "with $(k_i, d_i) = 1$. So with $k_1 \\cdot d_2 = k_2 \\cdot d_1$ all the prime factors of \n",
    "$k_1$ are in $k_2$ (since $k_1$ shares no prime factors with $d_1$). Likewise all the \n",
    "prime factors of $d_2$ are found in $d_1$ since $d_2$ shares no common factors with $k_2$. \n",
    "FTA/PFT in action! So $k_1 \\cdot d_2 = k_1 \\cdot d_2 \\cdot \\textrm{ extra }$\n",
    "but of course $\\textrm{extra}$ must be $1$. So $k_1 = k_2$ and $d_1 = d_2$. Being thus \n",
    "careful, we arrive at a *no multiplicity* conclusion: Each $\\alpha$ element of $S_n$ \n",
    "is built from a unique $k$ and $d$. Since the range of $\\alpha$ is constrained to be \n",
    "on $[1, n]$ we have $S_n \\subseteq [1, \\dots, n]$ and $[1, \\dots, n] \\subseteq S_n$ \n",
    "proving the Lemma."
   ]
  },
  {
   "cell_type": "markdown",
   "id": "b49b42fd-24be-4115-b3b9-2775d9722156",
   "metadata": {},
   "source": [
    "Returning to the purpose: Show that $F^* = \\mu * F$.\n",
    "\n",
    "\n",
    "Recapitulating $F$ and $F^*$:\n",
    "\n",
    "\n",
    "$\\begin{align}\n",
    "F(n) = \\sum_{k=1}^{n} f \\Bigl( \\frac{k}{n} \\Bigr)\n",
    "\\end{align}$\n",
    "\n",
    "\n",
    "$\\begin{align}\n",
    "F^*(n) = \\sum_{k=1 \\atop (k, n)=1}^{n} f \\Bigl( \\frac{k}{n} \\Bigr)\n",
    "\\end{align}$\n",
    "\n",
    "\n",
    "Quoting Chip:"
   ]
  },
  {
   "cell_type": "markdown",
   "id": "8ba1a570-a59a-45ad-9299-a32477e1e822",
   "metadata": {},
   "source": [
    "$\\begin{align}\n",
    "(u * F^{*})(n) = \n",
    "\\sum_{d|n} F^*(d) = \n",
    "\\sum_{d|n} \\sum_{k=1 \\atop (k, d) = 1}^{d} f\\Bigl( \\frac{k}{d} \\Bigr) = \n",
    "\\sum_{d|n} \\sum_{k=1 \\atop (k, d) = 1}^{d} f \\Bigl( \\frac{kn/d}{n} \\Bigr).\n",
    "\\end{align}$"
   ]
  },
  {
   "cell_type": "markdown",
   "id": "a7e1a2d5-3a87-4f46-8fff-dbfa8f9ed1ab",
   "metadata": {},
   "source": [
    "Citing the above Lemma:\n",
    "\n",
    "\n",
    "$\\begin{align}\n",
    "(u * F^{*})(n) =\n",
    "\\sum_{d|n} \\sum_{k=1 \\atop (k, d) = 1}^{d} f \\Bigl( \\frac{kn/d}{n} \\Bigr) =\n",
    "\\sum_{}^{n} f \\Bigl( \\frac{k}{n} \\Bigr) = F(n).\n",
    "\\end{align}$\n",
    "\n",
    "\n",
    "Next use the Möbius inversion formula to arrive at $F^{*} = \\mu * F$. \n"
   ]
  },
  {
   "cell_type": "markdown",
   "id": "f6f14ef8-9737-4d89-a74e-81f4a68126b4",
   "metadata": {},
   "source": [
    "Working this from the other direction... some notes: \n",
    "\n",
    "\n",
    "$\\begin{align}\n",
    "\\mu * F = F * \\mu = \\sum_{d|n}F(d) \\cdot \\mu(n/d) = \\sum_{d|n} \\mu(n/d) \\sum_{k=1}^d f(k/d)\n",
    "\\end{align}$\n",
    "\n",
    "\n",
    "$\\begin{align}\\sum_{d|n} \\Biggl( \\mu(d) \\cdot \\sum_{k=1}^{n/d} f \n",
    "\\Bigl( \\frac{k}{n} \\Bigr) \\Biggr)\\end{align}$\n",
    "\n",
    "\n",
    "Recall $u(n) = 1$ for all $n$; and also that $u * \\mu = I$.\n",
    "\n",
    "\n",
    "The Möbius inversion formula goes as follows: \n",
    "\n",
    "\n",
    "$\\begin{align}\n",
    "f(n) = \\sum_{d|n}g(d) \\iff g(n) = \\sum_{d|n}f(d) \\mu \\left( \\frac{n}{d} \\right)\n",
    "\\end{align}$\n",
    "\n",
    "\n",
    "Suppose $u * F^{*}(n) = F(n)$. "
   ]
  },
  {
   "cell_type": "markdown",
   "id": "47f08768-ad0c-47d5-b2c1-b63e136f9e8b",
   "metadata": {},
   "source": [
    "### 2.14 (b) Show that $\\mu(n)$ is the sum of the primitive $n$th roots of unity\n",
    "\n",
    "\n",
    "$\n",
    "\\begin{align}\n",
    "\\mu(n) = \\sum_{\\;\\;k=1 \\atop (k,n)=1}^n e^{2 \\pi i k/n}.\n",
    "\\end{align}\n",
    "$\n",
    "\n",
    "Roots of unity are complex-valued solutions to $z^n = 1$. If one such root is not also\n",
    "a solution to $z^m = 1$ where $m < n$ then it is a *primitive* root of unity. This is\n",
    "encapsulated in the above by the condition $(k, n) = 1$. \n",
    "\n",
    "\n",
    "Per force of habit let's try a couple cases.\n",
    "\n",
    "\n",
    "For $n = 1$: $\\mu(1) = 1 = e^{2 \\pi i \\frac{1}{1}}$: correct.\n",
    "\n",
    "For $n = 2$: $\\mu(2) = -1 = e^{2 \\pi i \\frac{1}{2}}$: correct. (There is no second term since $(2, 2) = 2$.)\n",
    "\n",
    "For $n = 3$: $\\mu(3) = -1 = e^{2 \\pi i \\frac{1}{3}} + e^{2 \\pi i \\frac{2}{3}}$: correct.\n",
    "\n",
    "For $n = 4$: Counting $k = 1, 3$ giving $i + (-i) = 0$: correct.\n",
    "\n",
    "For $n = 5$: Counting $k = 1, 2, 3, 4$ giving two conjugate pairs. The result for primes in this manner\n",
    "will always be real; and this will be twice the sum of a set of cosines. In this case we have \n",
    "$2 \\cdot (cos(2 \\pi \\frac{1}{5}) + cos(2 \\pi \\frac{2}{5}))$ which will be -1: correct.\n",
    "\n",
    "The following code gives $\\mu(n) = -1$ when $n$ is prime."
   ]
  },
  {
   "cell_type": "code",
   "execution_count": 4,
   "id": "e6b95b6f-4c35-4263-8f8e-570100bd8b5a",
   "metadata": {},
   "outputs": [
    {
     "name": "stdout",
     "output_type": "stream",
     "text": [
      "-1.0000000000002194\n"
     ]
    }
   ],
   "source": [
    "from math import pi, cos\n",
    "p = 1001\n",
    "h = p//2\n",
    "my_sum = 0\n",
    "for k in range(1, h+1): my_sum += cos(2*pi*k/p)\n",
    "print(round(2*(my_sum), 31))"
   ]
  },
  {
   "cell_type": "markdown",
   "id": "a669c466-8dce-4876-80bd-070acf99596f",
   "metadata": {},
   "source": [
    "All of which is fun enough but gets us no closer to a proof. "
   ]
  },
  {
   "cell_type": "markdown",
   "id": "3f214a14-fd16-4c85-8e06-4da1671c8d59",
   "metadata": {
    "tags": []
   },
   "source": [
    "## 2.15 \n",
    "\n",
    "## 2.16 \n",
    "\n",
    "## 2.17 "
   ]
  },
  {
   "cell_type": "code",
   "execution_count": null,
   "id": "60445ec2-4cb7-47ec-90ad-2c26bbe4d9db",
   "metadata": {},
   "outputs": [],
   "source": []
  }
 ],
 "metadata": {
  "kernelspec": {
   "display_name": "Python 3 (ipykernel)",
   "language": "python",
   "name": "python3"
  },
  "language_info": {
   "codemirror_mode": {
    "name": "ipython",
    "version": 3
   },
   "file_extension": ".py",
   "mimetype": "text/x-python",
   "name": "python",
   "nbconvert_exporter": "python",
   "pygments_lexer": "ipython3",
   "version": "3.11.4"
  }
 },
 "nbformat": 4,
 "nbformat_minor": 5
}
