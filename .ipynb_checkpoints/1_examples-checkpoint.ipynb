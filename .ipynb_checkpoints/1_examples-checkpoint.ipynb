{
 "cells": [
  {
   "cell_type": "markdown",
   "id": "a2cbccc0-f971-4807-8e82-0eaeb0e33871",
   "metadata": {},
   "source": [
    "### Function index\n",
    "\n",
    "- bool: **even**, **odd**, **divides(a | b)**, **relativelyprime**\n",
    "- list: **factor(n)**, **exponentfactor(n)** --> (p, a) tuples, **uniquefactors** (only primes), **divisors**\n",
    "- **listproduct** should be deprecated for **prod(l)**\n",
    "- **gcd**\n",
    "- **boolkey** is just the binary version of n... isn't this a built-in???\n",
    "- **Totient**, **Mobius**, **Nu** (# of unique prime factors), **Dirichlet** (and variants: multiplication)\n",
    "- **N(n) = n, I(n) = 1, 0, 0, ..., U(n) = 1\n"
   ]
  },
  {
   "cell_type": "code",
   "execution_count": 2,
   "id": "210ebfd6-58ef-458d-831a-cb3d3f295e8d",
   "metadata": {
    "tags": []
   },
   "outputs": [],
   "source": [
    "import ant"
   ]
  },
  {
   "cell_type": "code",
   "execution_count": 3,
   "id": "7c3a129b-7bb3-4e23-a97c-c0bf630e89f2",
   "metadata": {
    "tags": []
   },
   "outputs": [
    {
     "name": "stdout",
     "output_type": "stream",
     "text": [
      "[1, 2, 3, 4, 5, 6, 8, 9, 10, 12, 15, 16, 18, 20, 24, 25, 30, 32, 36, 40, 45, 48, 50, 60, 72, 75, 80, 90, 96, 100, 120, 125, 144, 150, 160, 180, 200, 225, 240, 250, 288, 300, 360, 375, 400, 450, 480, 500, 600, 720, 750, 800, 900, 1000, 1125, 1200, 1440, 1500, 1800, 2000, 2250, 2400, 3000, 3600, 4000, 4500, 6000, 7200, 9000, 12000, 18000, 36000]\n"
     ]
    }
   ],
   "source": [
    "# Check the divisors() function\n",
    "print(ant.divisors(36000))              # should --> [1, 2, 3, 4, 5, 6, 8, 9, 10, 12, ..., 36000]"
   ]
  },
  {
   "cell_type": "code",
   "execution_count": 4,
   "id": "d94357cd-8188-41e2-acde-67b8d0ab4ada",
   "metadata": {
    "tags": []
   },
   "outputs": [
    {
     "name": "stdout",
     "output_type": "stream",
     "text": [
      "False but True\n",
      "False but True\n",
      "False but True\n"
     ]
    }
   ],
   "source": [
    "# Problem 1.12b: a does not divide b but a**a divides b**b\n",
    "print(ant.divides(4, 10),  'but', ant.divides(4**4, 10**10))\n",
    "print(ant.divides(9, 21),  'but', ant.divides(9**9, 21**21))\n",
    "print(ant.divides(25, 55), 'but', ant.divides(25**25, 55**55))"
   ]
  },
  {
   "cell_type": "code",
   "execution_count": 5,
   "id": "6b19d06f-a953-4a45-9f01-22cc391caef1",
   "metadata": {
    "tags": []
   },
   "outputs": [
    {
     "name": "stdout",
     "output_type": "stream",
     "text": [
      "a = 2\n",
      "n = 2\n",
      "m = 5\n",
      "An and Am are: 17 4294967297\n",
      "Claim: An does not divide Am. Calculation:\n",
      "An does not divide Am\n",
      "Claim: An does divide Am - 2. Calculation:\n",
      "An divides Am-2 252645135.0 252645135\n",
      "Claim gcd is 1; calc says it is 1\n",
      "\n",
      "a = 3\n",
      "n = 2\n",
      "m = 5\n",
      "An and Am are: 82 1853020188851842\n",
      "Claim: An does not divide Am. Calculation:\n",
      "An does not divide Am\n",
      "Claim: An does divide Am - 2. Calculation:\n",
      "An divides Am-2 22597807181120.0 22597807181120\n",
      "Claim gcd is 2; calc says it is 2\n",
      "\n"
     ]
    }
   ],
   "source": [
    "# Problem 1.18 example\n",
    "# For n < m and parameter a > 1 show gcd(An, Am) is 1 or 2 for a even/odd.\n",
    "# Here Tn is defined as 2^n and An is defined as a^{Tn}\n",
    "\n",
    "n = 2\n",
    "m = 5\n",
    "avals = [2, 3]                # 4+ takes a really long time; gcd() could be optimized\n",
    "\n",
    "for a in avals:\n",
    "    print('a = ' + str(a))\n",
    "    print('n = ' + str(n))\n",
    "    print('m = ' + str(m))\n",
    "    An = a**(2**n) + 1\n",
    "    Am = a**(2**m) + 1\n",
    "    print('An and Am are:', An, Am)\n",
    "    \n",
    "    print(\"Claim: An does not divide Am. Calculation:\")\n",
    "    if ant.divides(An, Am): print(\"An divides Am; \", Am/An, Am//An)\n",
    "    else                  : print(\"An does not divide Am\")\n",
    "\n",
    "    print(\"Claim: An does divide Am - 2. Calculation:\")\n",
    "    if ant.divides(An, Am-2): print(\"An divides Am-2\", (Am-2)/An, (Am-2)//An)\n",
    "    else                    : print(\"An does not divide Am-2\")\n",
    "    \n",
    "    g = ant.gcd(An, Am)\n",
    "    if ant.even(a): print(\"Claim gcd is 1; calc says it is\", g)\n",
    "    else:          print(\"Claim gcd is 2; calc says it is\", g)\n",
    "    print()"
   ]
  },
  {
   "cell_type": "code",
   "execution_count": 11,
   "id": "bda77897-e813-4b10-8e29-5ae14d43b57f",
   "metadata": {
    "tags": []
   },
   "outputs": [
    {
     "name": "stdout",
     "output_type": "stream",
     "text": [
      "2 7 7\n",
      "3 26 26\n",
      "4 63 63\n",
      "5 124 124\n",
      "6 215 215\n",
      "7 342 342\n",
      "8 511 511\n",
      "9 728 728\n",
      "10 999 999\n",
      "11 1330 1330\n",
      "12 1727 1727\n",
      "13 2196 2196\n",
      "14 2743 2743\n",
      "15 3374 3374\n",
      "16 4095 4095\n",
      "17 4912 4912\n",
      "\n",
      "This supports the conclusion of problem 1.28.\n"
     ]
    }
   ],
   "source": [
    "# Problem 1.28 example\n",
    "\n",
    "from math import pow\n",
    "\n",
    "m = 6\n",
    "n = 9\n",
    "\n",
    "discrepancy = False\n",
    "\n",
    "for a in range(2, 18):\n",
    "    am_term = pow(a, m) - 1\n",
    "    an_term = pow(a, n) - 1\n",
    "    gcd = ant.gcd(am_term, an_term)\n",
    "    gcd_mn = ant.gcd(m, n)\n",
    "    check_term = int(pow(a, gcd_mn) - 1)\n",
    "    print(a, gcd, check_term)\n",
    "    if not gcd == check_term: discrepancy = True\n",
    "    \n",
    "if discrepancy: print(\"\\nThere is at least one discrepancy in this result.\")\n",
    "else:           print(\"\\nThis supports the conclusion of problem 1.28.\")"
   ]
  },
  {
   "cell_type": "code",
   "execution_count": null,
   "id": "876fca11-a212-42f1-8825-33b2276a2707",
   "metadata": {},
   "outputs": [],
   "source": []
  }
 ],
 "metadata": {
  "kernelspec": {
   "display_name": "Python 3 (ipykernel)",
   "language": "python",
   "name": "python3"
  },
  "language_info": {
   "codemirror_mode": {
    "name": "ipython",
    "version": 3
   },
   "file_extension": ".py",
   "mimetype": "text/x-python",
   "name": "python",
   "nbconvert_exporter": "python",
   "pygments_lexer": "ipython3",
   "version": "3.11.4"
  }
 },
 "nbformat": 4,
 "nbformat_minor": 5
}
