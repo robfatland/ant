{
 "cells": [
  {
   "cell_type": "markdown",
   "id": "2689e1bf-70f0-4948-90f7-7581347715b7",
   "metadata": {},
   "source": [
    "# Chapter 3\n",
    "\n",
    "\n",
    "The mean of an arithmetic function (typographic: a tilde over the function name) is the sum of $n$ values divided by $n$.\n",
    "What would $\\tilde{\\mu}(n)$ look like?"
   ]
  },
  {
   "cell_type": "code",
   "execution_count": 1,
   "id": "f52c65cf-a48c-4118-8eb8-6cf60c509809",
   "metadata": {},
   "outputs": [
    {
     "data": {
      "text/plain": [
       "[<matplotlib.lines.Line2D at 0x70e84e33e350>]"
      ]
     },
     "execution_count": 1,
     "metadata": {},
     "output_type": "execute_result"
    },
    {
     "data": {
      "image/png": "[encoded data removed]",
      "text/plain": [
       "<Figure size 640x480 with 1 Axes>"
      ]
     },
     "metadata": {},
     "output_type": "display_data"
    }
   ],
   "source": [
    "import ant\n",
    "from matplotlib import pyplot as plt\n",
    "plt.plot(ant.AMList(ant.mobius, 2000))"
   ]
  },
  {
   "cell_type": "markdown",
   "id": "43c40e0f-cef1-4676-8a64-690ae91eca8d",
   "metadata": {},
   "source": [
    "## $\\mathcal{O}$\n",
    "\n",
    "\n",
    "Big oh notation has an argument function; examples $\\mathcal{O}(x)$ and\n",
    "$\\mathcal{O}(\\sqrt{x})$. The idea is that the argument of $\\mathcal{O}$ relates to\n",
    "another (comparative) function in a sense of equivalence, explained below.\n",
    "Abstractly when we write $\\mathcal{O}(g(x))$ we relate $g(x)$ to a *comparative*\n",
    "function $f(x)$. (Incidentally in LaTeX the keyword $mathcal$ is short for\n",
    "*mathematical calligraphy*.)\n",
    "\n",
    "\n",
    "Before getting to the nature of the comparative function let's remark on \n",
    "*two implicit constants* used in the big oh formalism. The first is a lower\n",
    "bound and the second is a leading scalar coefficient, here using $a$ and $M$ respectively. \n",
    "Both apply to the argument function $g(x)$.\n",
    "\n",
    "\n",
    "The lower bound constant $a$ represents an abscissa point (x-axis) of the big oh argument \n",
    "function. The idea is that $a$ exists such that the argument function evaluates as positive \n",
    "for all $x \\ge a$. This is all that $a$ needs to accomplish. \n",
    "\n",
    "\n",
    "The scalar constant $M$ applies as a coefficient of the argument function:\n",
    "$\\mathcal{O}(\\sqrt{x})$ relates the argument function $\\sqrt{x}$ to an\n",
    "as-yet-unspecified comparative function $f(x)$ that grows no faster than $M$ times \n",
    "the argument function. $M$ is an implicit (perhaps even unstated) element of\n",
    "the big oh machinery.\n",
    "\n",
    "\n",
    "While big oh is comparative there is a further finesse: The argument \n",
    "function $g(x)$ is required to be positive-valued for $x \\ge a$, but the same condition is \n",
    "not imposed on the comparative function $f(x)$: It need not be positive-valued. \n",
    "With this we arrive at the following definition where *bounded* means in an absolute value sense:\n",
    "\n",
    "\n",
    "**$\\Large{\\equiv}$** If $g(x) \\gt 0 \\; \\forall \\; x \\ge a$ then the expression $f(x) = \\mathcal{O}(g(x))$ means\n",
    "that the quotient $f(x)/g(x)$ is bounded for $x \\ge a$. <br> \n",
    "Further: $\\Large{\\exists}$ $\\; \\textrm{a constant } M \\gt 0 \\;\\; \\ni \\;\\; \\big| f(x) \\big| \\; \\le \\; M \\cdot g(x) \\; \\forall \\; x \\ge a$.\n",
    "\n",
    "\n",
    "Finally a notion of sufficiency: We can work this the other way as a challenge to find\n",
    "$g(x)$ given $f(x)$; where many $g(x)$ may suffice. The goal is usually to find\n",
    "the *smallest* tenable $g(x)$ which acts as a sort of analog or proxy for $f(x)$.\n",
    "Once $g(x)$ is established--computer scientists are fond of emphasizing--the constant $M$\n",
    "is immaterial; as recall $M$ is not involved directly in big-oh equivalence statements."
   ]
  },
  {
   "cell_type": "markdown",
   "id": "6598b43b-f6de-4ec4-a29f-6fb03975fc28",
   "metadata": {},
   "source": [
    "## Follow-on to the definition of $\\mathcal{O}$\n",
    "\n",
    "\n",
    "We often see big oh used as a residual expression: $f(x) = h(x) + \\mathcal{O}(g(x))$. One way to\n",
    "interpret this is that the difference $f - h$ is the numerator in the 'bounded expression' of big oh.\n",
    "\n",
    "\n",
    "Tommy also gives an integral implication of big oh use: From comparative and argument functions $f$ and $g$\n",
    "with lower bound constant $a$ (see above) we have\n",
    "\n",
    "\n",
    "$\\begin{align}\n",
    "\\int_{a}^{x} f(t) \\; dt = \\mathcal{O} \\Biggl( \\int_{a}^{x} g(t) dt \\Biggr) \\;\\; \\mathrm{for} \\; x \\ge a.\n",
    "\\end{align}$"
   ]
  },
  {
   "cell_type": "markdown",
   "id": "1470bcf0-cdfe-4ac3-8ef8-ee403abd738d",
   "metadata": {},
   "source": [
    "## A first example of $\\mathcal{O}$\n",
    "\n",
    "\n",
    "What constitutes a good argument function for a comparative function $d(n)$, the number of divisors of $n$?"
   ]
  },
  {
   "cell_type": "code",
   "execution_count": null,
   "id": "75c31f45-d493-4775-8755-19caf14f2b71",
   "metadata": {},
   "outputs": [],
   "source": []
  },
  {
   "cell_type": "code",
   "execution_count": null,
   "id": "7c2fcb3d-7b0e-42df-805c-1ad4b513af78",
   "metadata": {},
   "outputs": [],
   "source": []
  },
  {
   "cell_type": "code",
   "execution_count": null,
   "id": "3cd524e3-195f-46c3-8fa2-b3c6eb18af94",
   "metadata": {},
   "outputs": [],
   "source": [
    "# mu_data = AMAccumulator(ant.mobius, 5000)\n",
    "# plt.plot(mu_data)"
   ]
  },
  {
   "cell_type": "code",
   "execution_count": null,
   "id": "43fb659c-e4f7-496f-a7b1-0c72819b33dd",
   "metadata": {},
   "outputs": [],
   "source": [
    "def ratio_d_to_log(n):\n",
    "    if n < 2: return ant.nan\n",
    "    return ant.d(n)/ant.log(n)"
   ]
  },
  {
   "cell_type": "code",
   "execution_count": null,
   "id": "72ca2c82-bfcb-496e-99ec-03db2fd40ad5",
   "metadata": {},
   "outputs": [],
   "source": [
    "rmean = AMAccumulator(ratio_d_to_log, 10)\n",
    "plt.plot(rmean)"
   ]
  },
  {
   "cell_type": "code",
   "execution_count": null,
   "id": "5702abbd-5226-4f47-8af6-daa1021a7c06",
   "metadata": {},
   "outputs": [],
   "source": []
  }
 ],
 "metadata": {
  "kernelspec": {
   "display_name": "Python 3 (ipykernel)",
   "language": "python",
   "name": "python3"
  },
  "language_info": {
   "codemirror_mode": {
    "name": "ipython",
    "version": 3
   },
   "file_extension": ".py",
   "mimetype": "text/x-python",
   "name": "python",
   "nbconvert_exporter": "python",
   "pygments_lexer": "ipython3",
   "version": "3.11.4"
  }
 },
 "nbformat": 4,
 "nbformat_minor": 5
}
